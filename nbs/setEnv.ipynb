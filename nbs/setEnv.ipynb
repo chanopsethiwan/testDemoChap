{
 "cells": [
  {
   "cell_type": "code",
   "execution_count": null,
   "id": "7504abc1-ecf2-4e90-802c-49b29538d801",
   "metadata": {},
   "outputs": [],
   "source": [
    "# default_exp setEnv"
   ]
  },
  {
   "cell_type": "markdown",
   "id": "35b08d15-fbbb-457f-9c23-39c88f1f135f",
   "metadata": {},
   "source": [
    "# SetEnv"
   ]
  },
  {
   "cell_type": "markdown",
   "id": "526c94bc-04e0-48eb-89c1-9d286fce6743",
   "metadata": {},
   "source": [
    "> This sets the environment variable for test only"
   ]
  },
  {
   "cell_type": "code",
   "execution_count": null,
   "id": "c4c3a1c6-2499-48e9-8fb1-b419e2018695",
   "metadata": {},
   "outputs": [],
   "source": [
    "import os"
   ]
  },
  {
   "cell_type": "code",
   "execution_count": null,
   "id": "aee927a1-271d-4698-8ff4-de46debe41cc",
   "metadata": {},
   "outputs": [],
   "source": [
    "os.environ['USERTABLENAME'] = 'usertable-test-master'"
   ]
  }
 ],
 "metadata": {
  "kernelspec": {
   "display_name": "python38",
   "language": "python",
   "name": "python38"
  }
 },
 "nbformat": 4,
 "nbformat_minor": 5
}
