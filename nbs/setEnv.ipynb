{
 "cells": [
  {
   "cell_type": "code",
   "execution_count": null,
   "id": "7504abc1-ecf2-4e90-802c-49b29538d801",
   "metadata": {},
   "outputs": [],
   "source": [
    "# default_exp setEnv"
   ]
  },
  {
   "cell_type": "markdown",
   "id": "35b08d15-fbbb-457f-9c23-39c88f1f135f",
   "metadata": {},
   "source": [
    "# SetEnv"
   ]
  },
  {
   "cell_type": "markdown",
   "id": "526c94bc-04e0-48eb-89c1-9d286fce6743",
   "metadata": {},
   "source": [
    "> This sets the environment variable for test only"
   ]
  },
  {
   "cell_type": "code",
   "execution_count": null,
   "id": "c4c3a1c6-2499-48e9-8fb1-b419e2018695",
   "metadata": {},
   "outputs": [],
   "source": [
    "#export\n",
    "import os"
   ]
  },
  {
   "cell_type": "code",
   "execution_count": null,
   "id": "aee927a1-271d-4698-8ff4-de46debe41cc",
   "metadata": {},
   "outputs": [],
   "source": [
    "#export\n",
    "os.environ['USERTABLENAME'] = 'usertablechap-test-master'"
   ]
  },
  {
   "cell_type": "code",
   "execution_count": null,
   "id": "34997df0-3b0f-42b4-86b4-27558dc344a0",
   "metadata": {},
   "outputs": [
    {
     "data": {
      "text/plain": [
       "'usertablechap-test-master'"
      ]
     },
     "execution_count": null,
     "metadata": {},
     "output_type": "execute_result"
    }
   ],
   "source": [
    "USERTABLENAME = os.environ.get('USERTABLENAME')\n",
    "USERTABLENAME"
   ]
  },
  {
   "cell_type": "code",
   "execution_count": null,
   "id": "262ff0a7-b121-486a-8c28-bc44845c129c",
   "metadata": {},
   "outputs": [],
   "source": []
  }
 ],
 "metadata": {
  "kernelspec": {
   "display_name": "python38",
   "language": "python",
   "name": "python38"
  },
  "language_info": {
   "codemirror_mode": {
    "name": "ipython",
    "version": 3
   },
   "file_extension": ".py",
   "mimetype": "text/x-python",
   "name": "python",
   "nbconvert_exporter": "python",
   "pygments_lexer": "ipython3",
   "version": "3.8.8"
  }
 },
 "nbformat": 4,
 "nbformat_minor": 5
}
