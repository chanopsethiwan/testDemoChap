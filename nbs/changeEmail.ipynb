{
 "cells": [
  {
   "cell_type": "code",
   "execution_count": null,
   "id": "ee46bdec-8ff7-4519-93dc-8a22d53c6bb4",
   "metadata": {},
   "outputs": [],
   "source": [
    "# default_exp changeEmail"
   ]
  },
  {
   "cell_type": "markdown",
   "id": "3a0a7a77-f926-498c-8964-904571d22b20",
   "metadata": {},
   "source": [
    "## Change Email\n",
    "\n",
    "> Change email of this account"
   ]
  },
  {
   "cell_type": "code",
   "execution_count": null,
   "id": "ec750098-71c8-447e-9b3d-ef42cbe4acc6",
   "metadata": {},
   "outputs": [],
   "source": [
    "#hide\n",
    "import src.setEnv \n",
    "import requests"
   ]
  },
  {
   "cell_type": "code",
   "execution_count": null,
   "id": "65bea0ca-9c5d-4f88-8f93-ba57176284b1",
   "metadata": {},
   "outputs": [],
   "source": [
    "#export \n",
    "from src.userTable import UserTable\n",
    "from awsSchema.apigateway import Response, Event\n",
    "from copy import deepcopy\n",
    "from src.saltHashPassword import hash_password, check_password\n",
    "from dataclasses import dataclass\n",
    "from dataclasses_json import dataclass_json\n",
    "from beartype import beartype"
   ]
  },
  {
   "cell_type": "markdown",
   "id": "6232660a-10db-4b2b-b868-42996f019b2f",
   "metadata": {},
   "source": [
    "## Change Email Input Class"
   ]
  },
  {
   "cell_type": "code",
   "execution_count": null,
   "id": "3ee98fad-a80c-4436-9556-32d13dde299e",
   "metadata": {},
   "outputs": [],
   "source": [
    "#export \n",
    "@dataclass_json\n",
    "@dataclass\n",
    "class ChangeEmailInput:\n",
    "    username: str\n",
    "    password: str\n",
    "    newEmail: str\n",
    "    \n",
    "    @property\n",
    "    def passwordHash(self):\n",
    "        return hash_password(self.newPassword)\n",
    "    \n",
    "    def checkPassword(self):\n",
    "        for item in UserTable.username_index.query(self.username):\n",
    "            return check_password(item.passwordHash, self.password)"
   ]
  },
  {
   "cell_type": "markdown",
   "id": "ac4f77ee-cd27-44e1-84a6-f12b704a5b56",
   "metadata": {},
   "source": [
    "## Main Lambda Handler"
   ]
  },
  {
   "cell_type": "code",
   "execution_count": null,
   "id": "3fdd33cc-9dc0-478d-b9c5-2cfab6c6e8d8",
   "metadata": {},
   "outputs": [],
   "source": [
    "#export\n",
    "class H:\n",
    "    class ParseInputError(Exception): pass\n",
    "    class PasswordCheckError(Exception): pass\n",
    "    class InvalidPasswordError(Exception): pass\n",
    "    class ChangeEmailError(Exception): pass\n",
    "    \n",
    "    @classmethod\n",
    "    @beartype\n",
    "    def parseInput(cls, event: dict)->ChangeEmailInput:\n",
    "        try:\n",
    "            user = Event.parseDataClass(ChangeEmailInput, deepcopy(event))\n",
    "            return user\n",
    "        except Exception as e:\n",
    "            raise cls.ParseInputError(e)\n",
    "    \n",
    "    @classmethod\n",
    "    @beartype\n",
    "    def changeToNewEmail(cls, user: ChangeEmailInput):\n",
    "        try:\n",
    "            passwordChecked = user.checkPassword()\n",
    "        except Exception as e:\n",
    "            raise cls.PasswordCheckError(e)\n",
    "        if passwordChecked:\n",
    "            pass\n",
    "        else:\n",
    "            raise cls.InvalidPasswordError\n",
    "        try:\n",
    "            usernameQuery = UserTable.username_index.query(user.username)\n",
    "            for i in usernameQuery:\n",
    "                userId = i.userId\n",
    "                oldItem = UserTable.get(userId)\n",
    "                oldItem.email = user.newEmail\n",
    "                oldItem.save()        \n",
    "        except Exception as e:\n",
    "            raise cls.ChangeEmailError(e)\n",
    "        return True"
   ]
  },
  {
   "cell_type": "code",
   "execution_count": null,
   "id": "25c349e2-008b-4a9a-bdf7-8002a42008cd",
   "metadata": {},
   "outputs": [],
   "source": [
    "#export \n",
    "def changeEmail(event, *args):\n",
    "    try:\n",
    "        user = H.parseInput(event)\n",
    "        H.changeToNewEmail(user)\n",
    "        return Response.returnSuccess()\n",
    "    except H.ParseInputError as e:\n",
    "        return Response.returnError(f'failed to parse input {e}')\n",
    "    except H.PasswordCheckError as e:\n",
    "        return Response.returnError(f'failed to check password {e}')\n",
    "    except H.InvalidPasswordError as e:\n",
    "        return Response.returnError(f'incorrect old password inputted {e}')\n",
    "    except H.ChangeEmailError as e:\n",
    "        return Response.returnError(f'unable to change password successfully {e}')\n",
    "    except Exception as e:\n",
    "        return Response.returnError(f' unknown error {e}')"
   ]
  },
  {
   "cell_type": "markdown",
   "id": "dd24b34c-874d-410c-a958-2674e9175392",
   "metadata": {},
   "source": [
    "### Success Test"
   ]
  },
  {
   "cell_type": "code",
   "execution_count": null,
   "id": "7a80ed19-8a89-4736-b9e1-30d807a5ef31",
   "metadata": {},
   "outputs": [],
   "source": [
    "input_ = {'username': 'Delg45678', 'password': '12765', 'newPassword': '12764'}\n",
    "event = Event.getInput(body = input_)\n",
    "changeEmail(event)"
   ]
  }
 ],
 "metadata": {
  "kernelspec": {
   "display_name": "python38",
   "language": "python",
   "name": "python38"
  }
 },
 "nbformat": 4,
 "nbformat_minor": 5
}
