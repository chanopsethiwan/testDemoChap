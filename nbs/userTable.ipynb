{
 "cells": [
  {
   "cell_type": "code",
   "execution_count": null,
   "metadata": {},
   "outputs": [],
   "source": [
    "# default_exp userTable"
   ]
  },
  {
   "cell_type": "markdown",
   "metadata": {},
   "source": [
    "# UserTable\n",
    "\n",
    "> Tables with informations about each user"
   ]
  },
  {
   "cell_type": "code",
   "execution_count": null,
   "metadata": {},
   "outputs": [],
   "source": [
    "#hide\n",
    "from nbdev.showdoc import *"
   ]
  },
  {
   "cell_type": "code",
   "execution_count": null,
   "metadata": {},
   "outputs": [],
   "source": [
    "#hide \n",
    "import src.setEnv"
   ]
  },
  {
   "cell_type": "code",
   "execution_count": null,
   "metadata": {},
   "outputs": [],
   "source": [
    "#export\n",
    "from pynamodb.models import Model\n",
    "from pynamodb.attributes import UnicodeAttribute, JSONAttribute, NumberAttribute\n",
    "from pynamodb.indexes import GlobalSecondaryIndex, AllProjection\n",
    "from src.getEnv import USERTABLENAME"
   ]
  },
  {
   "cell_type": "code",
   "execution_count": null,
   "metadata": {},
   "outputs": [],
   "source": [
    "#export \n",
    "class UsernameIndex(GlobalSecondaryIndex):\n",
    "    \"\"\" a global secondary index for username \"\"\"\n",
    "    class Meta:\n",
    "        index_name = 'username'\n",
    "        read_capacity_units = 2\n",
    "        write_capacity_units = 1\n",
    "        projection = AllProjection()\n",
    "        \n",
    "    username = UnicodeAttribute(hash_key=True)"
   ]
  },
  {
   "cell_type": "code",
   "execution_count": null,
   "metadata": {},
   "outputs": [],
   "source": [
    "#export\n",
    "class UserTable(Model):\n",
    "    \"\"\"\n",
    "    A DynamoDB User\n",
    "    \"\"\"\n",
    "    class Meta:\n",
    "        table_name = USERTABLENAME\n",
    "        region = 'ap-southeast-1'\n",
    "    userId = UnicodeAttribute(hash_key=True)\n",
    "    username = UnicodeAttribute()\n",
    "    date = NumberAttribute()\n",
    "    passwordHash = UnicodeAttribute()\n",
    "    email = UnicodeAttribute()\n",
    "    username_index = UsernameIndex()\n",
    "    \n",
    "    def toDict(self):\n",
    "        return {\n",
    "            'id': self.id,\n",
    "            'username': self.username,\n",
    "            'date': self.date,\n",
    "        }\n",
    "    def __repr__(self): \n",
    "        return f'{self.username}\\n{self.passwordHash}'\n",
    "    \n",
    "    "
   ]
  },
  {
   "cell_type": "code",
   "execution_count": null,
   "metadata": {},
   "outputs": [
    {
     "data": {
      "text/plain": [
       "Delgg\n",
       "asdjkhfaks;gkjadhg;kdfh"
      ]
     },
     "execution_count": null,
     "metadata": {},
     "output_type": "execute_result"
    }
   ],
   "source": [
    "testObject = UserTable(userId = '834295872', username = 'Delgg', date = 293894251, passwordHash = 'asdjkhfaks;gkjadhg;kdfh')\n",
    "testObject"
   ]
  },
  {
   "cell_type": "code",
   "execution_count": null,
   "metadata": {},
   "outputs": [
    {
     "data": {
      "text/plain": [
       "{'ConsumedCapacity': {'CapacityUnits': 2.0,\n",
       "  'TableName': 'usertablechap-test-master'}}"
      ]
     },
     "execution_count": null,
     "metadata": {},
     "output_type": "execute_result"
    }
   ],
   "source": [
    "testObject.save()"
   ]
  },
  {
   "cell_type": "code",
   "execution_count": null,
   "metadata": {},
   "outputs": [
    {
     "data": {
      "text/plain": [
       "'usertablechap-test-master'"
      ]
     },
     "execution_count": null,
     "metadata": {},
     "output_type": "execute_result"
    }
   ],
   "source": [
    "USERTABLENAME"
   ]
  },
  {
   "cell_type": "code",
   "execution_count": null,
   "metadata": {},
   "outputs": [
    {
     "name": "stdout",
     "output_type": "stream",
     "text": [
      "True\n"
     ]
    }
   ],
   "source": [
    "b = UserTable.username_index.count('DelG194')\n",
    "b\n",
    "\n",
    "if b:\n",
    "    print(True)\n",
    "else: \n",
    "    print(False)"
   ]
  },
  {
   "cell_type": "code",
   "execution_count": null,
   "metadata": {},
   "outputs": [
    {
     "ename": "TypeError",
     "evalue": "'ResultIterator' object is not subscriptable",
     "output_type": "error",
     "traceback": [
      "\u001b[0;31m---------------------------------------------------------------------------\u001b[0m",
      "\u001b[0;31mTypeError\u001b[0m                                 Traceback (most recent call last)",
      "Input \u001b[0;32mIn [26]\u001b[0m, in \u001b[0;36m<cell line: 1>\u001b[0;34m()\u001b[0m\n\u001b[0;32m----> 1\u001b[0m b \u001b[38;5;241m=\u001b[39m \u001b[43mUserTable\u001b[49m\u001b[38;5;241;43m.\u001b[39;49m\u001b[43musername_index\u001b[49m\u001b[38;5;241;43m.\u001b[39;49m\u001b[43mquery\u001b[49m\u001b[43m(\u001b[49m\u001b[38;5;124;43m'\u001b[39;49m\u001b[38;5;124;43mDelG194\u001b[39;49m\u001b[38;5;124;43m'\u001b[39;49m\u001b[43m)\u001b[49m\u001b[43m[\u001b[49m\u001b[38;5;241;43m0\u001b[39;49m\u001b[43m]\u001b[49m\n\u001b[1;32m      2\u001b[0m b\n",
      "\u001b[0;31mTypeError\u001b[0m: 'ResultIterator' object is not subscriptable"
     ]
    }
   ],
   "source": []
  },
  {
   "cell_type": "code",
   "execution_count": null,
   "metadata": {},
   "outputs": [],
   "source": []
  }
 ],
 "metadata": {
  "kernelspec": {
   "display_name": "python38",
   "language": "python",
   "name": "python38"
  }
 },
 "nbformat": 4,
 "nbformat_minor": 4
}
