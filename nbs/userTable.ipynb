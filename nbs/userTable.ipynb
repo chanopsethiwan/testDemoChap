{
 "cells": [
  {
   "cell_type": "code",
   "execution_count": null,
   "metadata": {},
   "outputs": [],
   "source": [
    "# default_exp userTable"
   ]
  },
  {
   "cell_type": "markdown",
   "metadata": {},
   "source": [
    "# UserTable\n",
    "\n",
    "> Tables with informations about each user"
   ]
  },
  {
   "cell_type": "code",
   "execution_count": null,
   "metadata": {},
   "outputs": [],
   "source": [
    "#hide\n",
    "from nbdev.showdoc import *"
   ]
  },
  {
   "cell_type": "code",
   "execution_count": null,
   "metadata": {},
   "outputs": [],
   "source": [
    "#hide \n",
    "import src.setEnv"
   ]
  },
  {
   "cell_type": "code",
   "execution_count": null,
   "metadata": {},
   "outputs": [],
   "source": [
    "#export\n",
    "from pynamodb.models import Model\n",
    "from pynamodb.attributes import UnicodeAttribute, JSONAttribute, NumberAttribute\n",
    "from pynamodb.indexes import GlobalSecondaryIndex, AllProjection\n",
    "from src.getEnv import USERTABLENAME"
   ]
  },
  {
   "cell_type": "code",
   "execution_count": null,
   "metadata": {},
   "outputs": [],
   "source": [
    "#export \n",
    "class UsernameIndex(GlobalSecondaryIndex):\n",
    "    \"\"\" a global secondary index for username \"\"\"\n",
    "    class Meta:\n",
    "        index_name = 'username'\n",
    "        read_capacity_units = 2\n",
    "        write_capacity_units = 1\n",
    "        projection = AllProjection()\n",
    "        \n",
    "    username = UnicodeAttribute(hash_key=True)"
   ]
  },
  {
   "cell_type": "code",
   "execution_count": null,
   "metadata": {},
   "outputs": [],
   "source": [
    "#export \n",
    "class EmailIndex(GlobalSecondaryIndex):\n",
    "    \"\"\" a global secondary index for email \"\"\"\n",
    "    class Meta:\n",
    "        index_name = 'email'\n",
    "        read_capacity_units = 2\n",
    "        write_capacity_units = 1\n",
    "        projection = AllProjection()\n",
    "        \n",
    "    email = UnicodeAttribute(hash_key=True)"
   ]
  },
  {
   "cell_type": "code",
   "execution_count": null,
   "metadata": {},
   "outputs": [],
   "source": [
    "#export\n",
    "class UserTable(Model):\n",
    "    \"\"\"\n",
    "    A DynamoDB User\n",
    "    \"\"\"\n",
    "    class Meta:\n",
    "        table_name = USERTABLENAME\n",
    "        region = 'ap-southeast-1'\n",
    "    userId = UnicodeAttribute(hash_key=True)\n",
    "    username = UnicodeAttribute()\n",
    "    date = NumberAttribute()\n",
    "    passwordHash = UnicodeAttribute()\n",
    "    email = UnicodeAttribute()\n",
    "    fullname = UnicodeAttribute(null=True)\n",
    "    nickname = UnicodeAttribute(null=True)\n",
    "    levelOfStudy = UnicodeAttribute(null=True)\n",
    "    username_index = UsernameIndex()\n",
    "    email_index = EmailIndex()\n",
    "\n",
    "    def toDict(self):\n",
    "        return {\n",
    "            'id': self.id,\n",
    "            'username': self.username,\n",
    "            'date': self.date,\n",
    "        }\n",
    "    def __repr__(self): \n",
    "        return f'{self.username}\\n{self.passwordHash}'\n",
    "    \n",
    "    "
   ]
  },
  {
   "cell_type": "code",
   "execution_count": null,
   "metadata": {},
   "outputs": [
    {
     "data": {
      "text/plain": [
       "Delgg\n",
       "asdjkhfaks;gkjadhg;kdfh"
      ]
     },
     "execution_count": null,
     "metadata": {},
     "output_type": "execute_result"
    }
   ],
   "source": [
    "testObject = UserTable(userId = '834295872', username = 'Delgg', date = 293894251, passwordHash = 'asdjkhfaks;gkjadhg;kdfh')\n",
    "testObject"
   ]
  },
  {
   "cell_type": "code",
   "execution_count": null,
   "metadata": {},
   "outputs": [
    {
     "ename": "ValueError",
     "evalue": "Attribute 'email' cannot be None",
     "output_type": "error",
     "traceback": [
      "\u001b[0;31m---------------------------------------------------------------------------\u001b[0m",
      "\u001b[0;31mValueError\u001b[0m                                Traceback (most recent call last)",
      "Input \u001b[0;32mIn [9]\u001b[0m, in \u001b[0;36m<cell line: 1>\u001b[0;34m()\u001b[0m\n\u001b[0;32m----> 1\u001b[0m \u001b[43mtestObject\u001b[49m\u001b[38;5;241;43m.\u001b[39;49m\u001b[43msave\u001b[49m\u001b[43m(\u001b[49m\u001b[43m)\u001b[49m\n",
      "File \u001b[0;32m/usr/local/Caskroom/miniconda/base/envs/python38/lib/python3.8/site-packages/pynamodb/models.py:445\u001b[0m, in \u001b[0;36mModel.save\u001b[0;34m(self, condition)\u001b[0m\n\u001b[1;32m    441\u001b[0m \u001b[38;5;28;01mdef\u001b[39;00m \u001b[38;5;21msave\u001b[39m(\u001b[38;5;28mself\u001b[39m, condition: Optional[Condition] \u001b[38;5;241m=\u001b[39m \u001b[38;5;28;01mNone\u001b[39;00m) \u001b[38;5;241m-\u001b[39m\u001b[38;5;241m>\u001b[39m Dict[\u001b[38;5;28mstr\u001b[39m, Any]:\n\u001b[1;32m    442\u001b[0m     \u001b[38;5;124;03m\"\"\"\u001b[39;00m\n\u001b[1;32m    443\u001b[0m \u001b[38;5;124;03m    Save this object to dynamodb\u001b[39;00m\n\u001b[1;32m    444\u001b[0m \u001b[38;5;124;03m    \"\"\"\u001b[39;00m\n\u001b[0;32m--> 445\u001b[0m     args, kwargs \u001b[38;5;241m=\u001b[39m \u001b[38;5;28;43mself\u001b[39;49m\u001b[38;5;241;43m.\u001b[39;49m\u001b[43m_get_save_args\u001b[49m\u001b[43m(\u001b[49m\u001b[43m)\u001b[49m\n\u001b[1;32m    446\u001b[0m     version_condition \u001b[38;5;241m=\u001b[39m \u001b[38;5;28mself\u001b[39m\u001b[38;5;241m.\u001b[39m_handle_version_attribute(serialized_attributes\u001b[38;5;241m=\u001b[39mkwargs)\n\u001b[1;32m    447\u001b[0m     \u001b[38;5;28;01mif\u001b[39;00m version_condition \u001b[38;5;129;01mis\u001b[39;00m \u001b[38;5;129;01mnot\u001b[39;00m \u001b[38;5;28;01mNone\u001b[39;00m:\n",
      "File \u001b[0;32m/usr/local/Caskroom/miniconda/base/envs/python38/lib/python3.8/site-packages/pynamodb/models.py:979\u001b[0m, in \u001b[0;36mModel._get_save_args\u001b[0;34m(self, attributes, null_check)\u001b[0m\n\u001b[1;32m    970\u001b[0m \u001b[38;5;124;03m\"\"\"\u001b[39;00m\n\u001b[1;32m    971\u001b[0m \u001b[38;5;124;03mGets the proper *args, **kwargs for saving and retrieving this object\u001b[39;00m\n\u001b[1;32m    972\u001b[0m \n\u001b[0;32m   (...)\u001b[0m\n\u001b[1;32m    976\u001b[0m \u001b[38;5;124;03m:param null_check: If True, then attributes are checked for null.\u001b[39;00m\n\u001b[1;32m    977\u001b[0m \u001b[38;5;124;03m\"\"\"\u001b[39;00m\n\u001b[1;32m    978\u001b[0m kwargs \u001b[38;5;241m=\u001b[39m {}\n\u001b[0;32m--> 979\u001b[0m serialized \u001b[38;5;241m=\u001b[39m \u001b[38;5;28;43mself\u001b[39;49m\u001b[38;5;241;43m.\u001b[39;49m\u001b[43m_serialize\u001b[49m\u001b[43m(\u001b[49m\u001b[43mnull_check\u001b[49m\u001b[38;5;241;43m=\u001b[39;49m\u001b[43mnull_check\u001b[49m\u001b[43m)\u001b[49m\n\u001b[1;32m    980\u001b[0m hash_key \u001b[38;5;241m=\u001b[39m serialized\u001b[38;5;241m.\u001b[39mget(HASH)\n\u001b[1;32m    981\u001b[0m range_key \u001b[38;5;241m=\u001b[39m serialized\u001b[38;5;241m.\u001b[39mget(RANGE, \u001b[38;5;28;01mNone\u001b[39;00m)\n",
      "File \u001b[0;32m/usr/local/Caskroom/miniconda/base/envs/python38/lib/python3.8/site-packages/pynamodb/models.py:1151\u001b[0m, in \u001b[0;36mModel._serialize\u001b[0;34m(self, attr_map, null_check)\u001b[0m\n\u001b[1;32m   1148\u001b[0m     \u001b[38;5;28;01mif\u001b[39;00m \u001b[38;5;129;01mnot\u001b[39;00m value\u001b[38;5;241m.\u001b[39mvalidate():\n\u001b[1;32m   1149\u001b[0m         \u001b[38;5;28;01mraise\u001b[39;00m \u001b[38;5;167;01mValueError\u001b[39;00m(\u001b[38;5;124m\"\u001b[39m\u001b[38;5;124mAttribute \u001b[39m\u001b[38;5;124m'\u001b[39m\u001b[38;5;132;01m{}\u001b[39;00m\u001b[38;5;124m'\u001b[39m\u001b[38;5;124m is not correctly typed\u001b[39m\u001b[38;5;124m\"\u001b[39m\u001b[38;5;241m.\u001b[39mformat(attr\u001b[38;5;241m.\u001b[39mattr_name))\n\u001b[0;32m-> 1151\u001b[0m serialized \u001b[38;5;241m=\u001b[39m \u001b[38;5;28;43mself\u001b[39;49m\u001b[38;5;241;43m.\u001b[39;49m\u001b[43m_serialize_value\u001b[49m\u001b[43m(\u001b[49m\u001b[43mattr\u001b[49m\u001b[43m,\u001b[49m\u001b[43m \u001b[49m\u001b[43mvalue\u001b[49m\u001b[43m,\u001b[49m\u001b[43m \u001b[49m\u001b[43mnull_check\u001b[49m\u001b[43m)\u001b[49m\n\u001b[1;32m   1152\u001b[0m \u001b[38;5;28;01mif\u001b[39;00m NULL \u001b[38;5;129;01min\u001b[39;00m serialized:\n\u001b[1;32m   1153\u001b[0m     \u001b[38;5;28;01mcontinue\u001b[39;00m\n",
      "File \u001b[0;32m/usr/local/Caskroom/miniconda/base/envs/python38/lib/python3.8/site-packages/pynamodb/models.py:1183\u001b[0m, in \u001b[0;36mModel._serialize_value\u001b[0;34m(cls, attr, value, null_check)\u001b[0m\n\u001b[1;32m   1181\u001b[0m \u001b[38;5;28;01mif\u001b[39;00m serialized \u001b[38;5;129;01mis\u001b[39;00m \u001b[38;5;28;01mNone\u001b[39;00m:\n\u001b[1;32m   1182\u001b[0m     \u001b[38;5;28;01mif\u001b[39;00m \u001b[38;5;129;01mnot\u001b[39;00m attr\u001b[38;5;241m.\u001b[39mnull \u001b[38;5;129;01mand\u001b[39;00m null_check:\n\u001b[0;32m-> 1183\u001b[0m         \u001b[38;5;28;01mraise\u001b[39;00m \u001b[38;5;167;01mValueError\u001b[39;00m(\u001b[38;5;124m\"\u001b[39m\u001b[38;5;124mAttribute \u001b[39m\u001b[38;5;124m'\u001b[39m\u001b[38;5;132;01m{}\u001b[39;00m\u001b[38;5;124m'\u001b[39m\u001b[38;5;124m cannot be None\u001b[39m\u001b[38;5;124m\"\u001b[39m\u001b[38;5;241m.\u001b[39mformat(attr\u001b[38;5;241m.\u001b[39mattr_name))\n\u001b[1;32m   1184\u001b[0m     \u001b[38;5;28;01mreturn\u001b[39;00m {NULL: \u001b[38;5;28;01mTrue\u001b[39;00m}\n\u001b[1;32m   1186\u001b[0m \u001b[38;5;28;01mreturn\u001b[39;00m {ATTR_TYPE_MAP[attr\u001b[38;5;241m.\u001b[39mattr_type]: serialized}\n",
      "\u001b[0;31mValueError\u001b[0m: Attribute 'email' cannot be None"
     ]
    }
   ],
   "source": [
    "testObject.save()"
   ]
  },
  {
   "cell_type": "code",
   "execution_count": null,
   "metadata": {},
   "outputs": [],
   "source": [
    "USERTABLENAME"
   ]
  },
  {
   "cell_type": "code",
   "execution_count": null,
   "metadata": {},
   "outputs": [],
   "source": [
    "b = UserTable.username_index.count('DelG194')\n",
    "b\n",
    "print(b)\n",
    "if b:\n",
    "    print(True)\n",
    "else: \n",
    "    print(False)"
   ]
  },
  {
   "cell_type": "code",
   "execution_count": null,
   "metadata": {},
   "outputs": [],
   "source": [
    "b = UserTable.get('2453134e-0c1b-43ba-b157-25429ca8231c')\n",
    "b.passwordHash = 'noob'\n",
    "b.save()"
   ]
  },
  {
   "cell_type": "code",
   "execution_count": null,
   "metadata": {},
   "outputs": [
    {
     "data": {
      "text/plain": [
       "1"
      ]
     },
     "execution_count": null,
     "metadata": {},
     "output_type": "execute_result"
    }
   ],
   "source": [
    "c = UserTable.email_index.count('chanopsethiwan233@gmail.com')\n",
    "c"
   ]
  },
  {
   "cell_type": "code",
   "execution_count": null,
   "metadata": {},
   "outputs": [],
   "source": []
  }
 ],
 "metadata": {
  "kernelspec": {
   "display_name": "python38",
   "language": "python",
   "name": "python38"
  }
 },
 "nbformat": 4,
 "nbformat_minor": 4
}
