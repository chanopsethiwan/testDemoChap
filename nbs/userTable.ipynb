{
 "cells": [
  {
   "cell_type": "code",
   "execution_count": null,
   "metadata": {},
   "outputs": [],
   "source": [
    "# default_exp userTable"
   ]
  },
  {
   "cell_type": "markdown",
   "metadata": {},
   "source": [
    "# UserTable\n",
    "\n",
    "> Tables with informations about each user"
   ]
  },
  {
   "cell_type": "code",
   "execution_count": 25,
   "metadata": {},
   "outputs": [],
   "source": [
    "#hide\n",
    "from nbdev.showdoc import *"
   ]
  },
  {
   "cell_type": "code",
   "execution_count": 26,
   "metadata": {},
   "outputs": [],
   "source": [
    "#hide \n",
    "import src.setEnv"
   ]
  },
  {
   "cell_type": "code",
   "execution_count": 27,
   "metadata": {},
   "outputs": [],
   "source": [
    "#export\n",
    "from pynamodb.models import Model\n",
    "from pynamodb.attributes import UnicodeAttribute, JSONAttribute, NumberAttribute\n",
    "from src.getEnv import USERTABLENAME"
   ]
  },
  {
   "cell_type": "code",
   "execution_count": 28,
   "metadata": {},
   "outputs": [],
   "source": [
    "#export\n",
    "class UserTable(Model):\n",
    "    \"\"\"\n",
    "    A DynamoDB User\n",
    "    \"\"\"\n",
    "    class Meta:\n",
    "        table_name = USERTABLENAME\n",
    "        region = 'ap-southeast-1'\n",
    "    userId = UnicodeAttribute(hash_key=True)\n",
    "    username = UnicodeAttribute()\n",
    "    date = NumberAttribute()\n",
    "    passwordHash = UnicodeAttribute()\n",
    "    \n",
    "    def toDict(self):\n",
    "        return {\n",
    "            'id': self.id,\n",
    "            'username': self.username,\n",
    "            'date': self.date,\n",
    "        }\n",
    "    def __repr__(self): \n",
    "        return f'{self.username}\\n{self.passwordHash}'"
   ]
  },
  {
   "cell_type": "code",
   "execution_count": 29,
   "metadata": {},
   "outputs": [
    {
     "data": {
      "text/plain": [
       "Delg\n",
       "asdjkhfaks;gkjadhg;kdfh"
      ]
     },
     "execution_count": 29,
     "metadata": {},
     "output_type": "execute_result"
    }
   ],
   "source": [
    "testObject = UserTable(userId = '834295872', username = 'Delg', date = '293894250', passwordHash = 'asdjkhfaks;gkjadhg;kdfh')\n",
    "testObject"
   ]
  },
  {
   "cell_type": "code",
   "execution_count": 30,
   "metadata": {},
   "outputs": [
    {
     "ename": "AttributeError",
     "evalue": "As of v1.0 PyanmoDB Models must have a table_name\nModel: __main__.UserTable\nSee https://pynamodb.readthedocs.io/en/latest/release_notes.html",
     "output_type": "error",
     "traceback": [
      "\u001b[0;31m---------------------------------------------------------------------------\u001b[0m",
      "\u001b[0;31mAttributeError\u001b[0m                            Traceback (most recent call last)",
      "Input \u001b[0;32mIn [30]\u001b[0m, in \u001b[0;36m<cell line: 1>\u001b[0;34m()\u001b[0m\n\u001b[0;32m----> 1\u001b[0m \u001b[43mtestObject\u001b[49m\u001b[38;5;241;43m.\u001b[39;49m\u001b[43msave\u001b[49m\u001b[43m(\u001b[49m\u001b[43m)\u001b[49m\n",
      "File \u001b[0;32m/usr/local/Caskroom/miniconda/base/envs/python38/lib/python3.8/site-packages/pynamodb/models.py:450\u001b[0m, in \u001b[0;36mModel.save\u001b[0;34m(self, condition)\u001b[0m\n\u001b[1;32m    448\u001b[0m     condition \u001b[38;5;241m&\u001b[39m\u001b[38;5;241m=\u001b[39m version_condition\n\u001b[1;32m    449\u001b[0m kwargs\u001b[38;5;241m.\u001b[39mupdate(condition\u001b[38;5;241m=\u001b[39mcondition)\n\u001b[0;32m--> 450\u001b[0m data \u001b[38;5;241m=\u001b[39m \u001b[38;5;28;43mself\u001b[39;49m\u001b[38;5;241;43m.\u001b[39;49m\u001b[43m_get_connection\u001b[49m\u001b[43m(\u001b[49m\u001b[43m)\u001b[49m\u001b[38;5;241m.\u001b[39mput_item(\u001b[38;5;241m*\u001b[39margs, \u001b[38;5;241m*\u001b[39m\u001b[38;5;241m*\u001b[39mkwargs)\n\u001b[1;32m    451\u001b[0m \u001b[38;5;28mself\u001b[39m\u001b[38;5;241m.\u001b[39mupdate_local_version_attribute()\n\u001b[1;32m    452\u001b[0m \u001b[38;5;28;01mreturn\u001b[39;00m data\n",
      "File \u001b[0;32m/usr/local/Caskroom/miniconda/base/envs/python38/lib/python3.8/site-packages/pynamodb/models.py:1098\u001b[0m, in \u001b[0;36mModel._get_connection\u001b[0;34m(cls)\u001b[0m\n\u001b[1;32m   1090\u001b[0m     \u001b[38;5;28;01mraise\u001b[39;00m \u001b[38;5;167;01mAttributeError\u001b[39;00m(\n\u001b[1;32m   1091\u001b[0m         \u001b[38;5;124m'\u001b[39m\u001b[38;5;124mAs of v1.0 PynamoDB Models require a `Meta` class.\u001b[39m\u001b[38;5;130;01m\\n\u001b[39;00m\u001b[38;5;124m'\u001b[39m\n\u001b[1;32m   1092\u001b[0m         \u001b[38;5;124m'\u001b[39m\u001b[38;5;124mModel: \u001b[39m\u001b[38;5;132;01m{}\u001b[39;00m\u001b[38;5;124m.\u001b[39m\u001b[38;5;132;01m{}\u001b[39;00m\u001b[38;5;130;01m\\n\u001b[39;00m\u001b[38;5;124m'\u001b[39m\n\u001b[0;32m   (...)\u001b[0m\n\u001b[1;32m   1095\u001b[0m         ),\n\u001b[1;32m   1096\u001b[0m     )\n\u001b[1;32m   1097\u001b[0m \u001b[38;5;28;01melif\u001b[39;00m \u001b[38;5;129;01mnot\u001b[39;00m \u001b[38;5;28mhasattr\u001b[39m(\u001b[38;5;28mcls\u001b[39m\u001b[38;5;241m.\u001b[39mMeta, \u001b[38;5;124m\"\u001b[39m\u001b[38;5;124mtable_name\u001b[39m\u001b[38;5;124m\"\u001b[39m) \u001b[38;5;129;01mor\u001b[39;00m \u001b[38;5;28mcls\u001b[39m\u001b[38;5;241m.\u001b[39mMeta\u001b[38;5;241m.\u001b[39mtable_name \u001b[38;5;129;01mis\u001b[39;00m \u001b[38;5;28;01mNone\u001b[39;00m:\n\u001b[0;32m-> 1098\u001b[0m     \u001b[38;5;28;01mraise\u001b[39;00m \u001b[38;5;167;01mAttributeError\u001b[39;00m(\n\u001b[1;32m   1099\u001b[0m         \u001b[38;5;124m'\u001b[39m\u001b[38;5;124mAs of v1.0 PyanmoDB Models must have a table_name\u001b[39m\u001b[38;5;130;01m\\n\u001b[39;00m\u001b[38;5;124m'\u001b[39m\n\u001b[1;32m   1100\u001b[0m         \u001b[38;5;124m'\u001b[39m\u001b[38;5;124mModel: \u001b[39m\u001b[38;5;132;01m{}\u001b[39;00m\u001b[38;5;124m.\u001b[39m\u001b[38;5;132;01m{}\u001b[39;00m\u001b[38;5;130;01m\\n\u001b[39;00m\u001b[38;5;124m'\u001b[39m\n\u001b[1;32m   1101\u001b[0m         \u001b[38;5;124m'\u001b[39m\u001b[38;5;124mSee https://pynamodb.readthedocs.io/en/latest/release_notes.html\u001b[39m\u001b[38;5;124m'\u001b[39m\u001b[38;5;241m.\u001b[39mformat(\n\u001b[1;32m   1102\u001b[0m             \u001b[38;5;28mcls\u001b[39m\u001b[38;5;241m.\u001b[39m\u001b[38;5;18m__module__\u001b[39m, \u001b[38;5;28mcls\u001b[39m\u001b[38;5;241m.\u001b[39m\u001b[38;5;18m__name__\u001b[39m,\n\u001b[1;32m   1103\u001b[0m         ),\n\u001b[1;32m   1104\u001b[0m     )\n\u001b[1;32m   1105\u001b[0m \u001b[38;5;28;01mif\u001b[39;00m \u001b[38;5;28mcls\u001b[39m\u001b[38;5;241m.\u001b[39m_connection \u001b[38;5;129;01mis\u001b[39;00m \u001b[38;5;28;01mNone\u001b[39;00m:\n\u001b[1;32m   1106\u001b[0m     \u001b[38;5;28mcls\u001b[39m\u001b[38;5;241m.\u001b[39m_connection \u001b[38;5;241m=\u001b[39m TableConnection(\u001b[38;5;28mcls\u001b[39m\u001b[38;5;241m.\u001b[39mMeta\u001b[38;5;241m.\u001b[39mtable_name,\n\u001b[1;32m   1107\u001b[0m                                       region\u001b[38;5;241m=\u001b[39m\u001b[38;5;28mcls\u001b[39m\u001b[38;5;241m.\u001b[39mMeta\u001b[38;5;241m.\u001b[39mregion,\n\u001b[1;32m   1108\u001b[0m                                       host\u001b[38;5;241m=\u001b[39m\u001b[38;5;28mcls\u001b[39m\u001b[38;5;241m.\u001b[39mMeta\u001b[38;5;241m.\u001b[39mhost,\n\u001b[0;32m   (...)\u001b[0m\n\u001b[1;32m   1118\u001b[0m                                       dax_write_endpoints\u001b[38;5;241m=\u001b[39m\u001b[38;5;28mcls\u001b[39m\u001b[38;5;241m.\u001b[39mMeta\u001b[38;5;241m.\u001b[39mdax_write_endpoints,\n\u001b[1;32m   1119\u001b[0m                                       dax_read_endpoints\u001b[38;5;241m=\u001b[39m\u001b[38;5;28mcls\u001b[39m\u001b[38;5;241m.\u001b[39mMeta\u001b[38;5;241m.\u001b[39mdax_read_endpoints)\n",
      "\u001b[0;31mAttributeError\u001b[0m: As of v1.0 PyanmoDB Models must have a table_name\nModel: __main__.UserTable\nSee https://pynamodb.readthedocs.io/en/latest/release_notes.html"
     ]
    }
   ],
   "source": [
    "testObject.save()"
   ]
  },
  {
   "cell_type": "code",
   "execution_count": null,
   "metadata": {},
   "outputs": [],
   "source": []
  }
 ],
 "metadata": {
  "kernelspec": {
   "display_name": "python38",
   "language": "python",
   "name": "python38"
  },
  "language_info": {
   "codemirror_mode": {
    "name": "ipython",
    "version": 3
   },
   "file_extension": ".py",
   "mimetype": "text/x-python",
   "name": "python",
   "nbconvert_exporter": "python",
   "pygments_lexer": "ipython3",
   "version": "3.8.8"
  }
 },
 "nbformat": 4,
 "nbformat_minor": 4
}
