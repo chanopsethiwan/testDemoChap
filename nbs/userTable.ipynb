{
 "cells": [
  {
   "cell_type": "code",
   "execution_count": null,
   "metadata": {},
   "outputs": [],
   "source": [
    "# default_exp userTable"
   ]
  },
  {
   "cell_type": "markdown",
   "metadata": {},
   "source": [
    "# UserTable\n",
    "\n",
    "> Tables with informations about each user"
   ]
  },
  {
   "cell_type": "code",
   "execution_count": null,
   "metadata": {},
   "outputs": [],
   "source": [
    "#hide\n",
    "from nbdev.showdoc import *"
   ]
  },
  {
   "cell_type": "code",
   "execution_count": null,
   "metadata": {},
   "outputs": [],
   "source": [
    "#hide \n",
    "import src.setEnv"
   ]
  },
  {
   "cell_type": "code",
   "execution_count": null,
   "metadata": {},
   "outputs": [],
   "source": [
    "#export\n",
    "from pynamodb.models import Model\n",
    "from pynamodb.attributes import UnicodeAttribute, JSONAttribute, NumberAttribute\n",
    "from pynamodb.indexes import GlobalSecondaryIndex, AllProjection\n",
    "from src.getEnv import USERTABLENAME"
   ]
  },
  {
   "cell_type": "code",
   "execution_count": null,
   "metadata": {},
   "outputs": [],
   "source": [
    "#export \n",
    "class UsernameIndex(GlobalSecondaryIndex):\n",
    "    \"\"\" a global secondary index for username \"\"\"\n",
    "    class Meta:\n",
    "        index_name = 'username'\n",
    "        read_capacity_units = 2\n",
    "        write_capacity_units = 1\n",
    "        projection = AllProjection()\n",
    "        \n",
    "    username = UnicodeAttribute(hash_key=True)"
   ]
  },
  {
   "cell_type": "code",
   "execution_count": null,
   "metadata": {},
   "outputs": [],
   "source": [
    "#export \n",
    "class EmailIndex(GlobalSecondaryIndex):\n",
    "    \"\"\" a global secondary index for email \"\"\"\n",
    "    class Meta:\n",
    "        index_name = 'email'\n",
    "        read_capacity_units = 2\n",
    "        write_capacity_units = 1\n",
    "        projection = AllProjection()\n",
    "        \n",
    "    email = UnicodeAttribute(hash_key=True)"
   ]
  },
  {
   "cell_type": "code",
   "execution_count": null,
   "metadata": {},
   "outputs": [],
   "source": [
    "#export\n",
    "class UserTable(Model):\n",
    "    \"\"\"\n",
    "    A DynamoDB User\n",
    "    \"\"\"\n",
    "    class Meta:\n",
    "        table_name = USERTABLENAME\n",
    "        region = 'ap-southeast-1'\n",
    "    userId = UnicodeAttribute(hash_key=True)\n",
    "    username = UnicodeAttribute()\n",
    "    date = NumberAttribute()\n",
    "    passwordHash = UnicodeAttribute()\n",
    "    email = UnicodeAttribute()\n",
    "    username_index = UsernameIndex()\n",
    "    email_index = EmailIndex()\n",
    "    \n",
    "    def toDict(self):\n",
    "        return {\n",
    "            'id': self.id,\n",
    "            'username': self.username,\n",
    "            'date': self.date,\n",
    "        }\n",
    "    def __repr__(self): \n",
    "        return f'{self.username}\\n{self.passwordHash}'\n",
    "    \n",
    "    "
   ]
  },
  {
   "cell_type": "code",
   "execution_count": null,
   "metadata": {},
   "outputs": [
    {
     "data": {
      "text/plain": [
       "Delgg\n",
       "asdjkhfaks;gkjadhg;kdfh"
      ]
     },
     "execution_count": null,
     "metadata": {},
     "output_type": "execute_result"
    }
   ],
   "source": [
    "testObject = UserTable(userId = '834295872', username = 'Delgg', date = 293894251, passwordHash = 'asdjkhfaks;gkjadhg;kdfh')\n",
    "testObject"
   ]
  },
  {
   "cell_type": "code",
   "execution_count": null,
   "metadata": {},
   "outputs": [
    {
     "ename": "ValueError",
     "evalue": "Attribute 'email' cannot be None",
     "output_type": "error",
     "traceback": [
      "\u001b[0;31m---------------------------------------------------------------------------\u001b[0m",
      "\u001b[0;31mValueError\u001b[0m                                Traceback (most recent call last)",
      "Input \u001b[0;32mIn [9]\u001b[0m, in \u001b[0;36m<cell line: 1>\u001b[0;34m()\u001b[0m\n\u001b[0;32m----> 1\u001b[0m \u001b[43mtestObject\u001b[49m\u001b[38;5;241;43m.\u001b[39;49m\u001b[43msave\u001b[49m\u001b[43m(\u001b[49m\u001b[43m)\u001b[49m\n",
      "File \u001b[0;32m/usr/local/Caskroom/miniconda/base/envs/python38/lib/python3.8/site-packages/pynamodb/models.py:445\u001b[0m, in \u001b[0;36mModel.save\u001b[0;34m(self, condition)\u001b[0m\n\u001b[1;32m    441\u001b[0m \u001b[38;5;28;01mdef\u001b[39;00m \u001b[38;5;21msave\u001b[39m(\u001b[38;5;28mself\u001b[39m, condition: Optional[Condition] \u001b[38;5;241m=\u001b[39m \u001b[38;5;28;01mNone\u001b[39;00m) \u001b[38;5;241m-\u001b[39m\u001b[38;5;241m>\u001b[39m Dict[\u001b[38;5;28mstr\u001b[39m, Any]:\n\u001b[1;32m    442\u001b[0m     \u001b[38;5;124;03m\"\"\"\u001b[39;00m\n\u001b[1;32m    443\u001b[0m \u001b[38;5;124;03m    Save this object to dynamodb\u001b[39;00m\n\u001b[1;32m    444\u001b[0m \u001b[38;5;124;03m    \"\"\"\u001b[39;00m\n\u001b[0;32m--> 445\u001b[0m     args, kwargs \u001b[38;5;241m=\u001b[39m \u001b[38;5;28;43mself\u001b[39;49m\u001b[38;5;241;43m.\u001b[39;49m\u001b[43m_get_save_args\u001b[49m\u001b[43m(\u001b[49m\u001b[43m)\u001b[49m\n\u001b[1;32m    446\u001b[0m     version_condition \u001b[38;5;241m=\u001b[39m \u001b[38;5;28mself\u001b[39m\u001b[38;5;241m.\u001b[39m_handle_version_attribute(serialized_attributes\u001b[38;5;241m=\u001b[39mkwargs)\n\u001b[1;32m    447\u001b[0m     \u001b[38;5;28;01mif\u001b[39;00m version_condition \u001b[38;5;129;01mis\u001b[39;00m \u001b[38;5;129;01mnot\u001b[39;00m \u001b[38;5;28;01mNone\u001b[39;00m:\n",
      "File \u001b[0;32m/usr/local/Caskroom/miniconda/base/envs/python38/lib/python3.8/site-packages/pynamodb/models.py:979\u001b[0m, in \u001b[0;36mModel._get_save_args\u001b[0;34m(self, attributes, null_check)\u001b[0m\n\u001b[1;32m    970\u001b[0m \u001b[38;5;124;03m\"\"\"\u001b[39;00m\n\u001b[1;32m    971\u001b[0m \u001b[38;5;124;03mGets the proper *args, **kwargs for saving and retrieving this object\u001b[39;00m\n\u001b[1;32m    972\u001b[0m \n\u001b[0;32m   (...)\u001b[0m\n\u001b[1;32m    976\u001b[0m \u001b[38;5;124;03m:param null_check: If True, then attributes are checked for null.\u001b[39;00m\n\u001b[1;32m    977\u001b[0m \u001b[38;5;124;03m\"\"\"\u001b[39;00m\n\u001b[1;32m    978\u001b[0m kwargs \u001b[38;5;241m=\u001b[39m {}\n\u001b[0;32m--> 979\u001b[0m serialized \u001b[38;5;241m=\u001b[39m \u001b[38;5;28;43mself\u001b[39;49m\u001b[38;5;241;43m.\u001b[39;49m\u001b[43m_serialize\u001b[49m\u001b[43m(\u001b[49m\u001b[43mnull_check\u001b[49m\u001b[38;5;241;43m=\u001b[39;49m\u001b[43mnull_check\u001b[49m\u001b[43m)\u001b[49m\n\u001b[1;32m    980\u001b[0m hash_key \u001b[38;5;241m=\u001b[39m serialized\u001b[38;5;241m.\u001b[39mget(HASH)\n\u001b[1;32m    981\u001b[0m range_key \u001b[38;5;241m=\u001b[39m serialized\u001b[38;5;241m.\u001b[39mget(RANGE, \u001b[38;5;28;01mNone\u001b[39;00m)\n",
      "File \u001b[0;32m/usr/local/Caskroom/miniconda/base/envs/python38/lib/python3.8/site-packages/pynamodb/models.py:1151\u001b[0m, in \u001b[0;36mModel._serialize\u001b[0;34m(self, attr_map, null_check)\u001b[0m\n\u001b[1;32m   1148\u001b[0m     \u001b[38;5;28;01mif\u001b[39;00m \u001b[38;5;129;01mnot\u001b[39;00m value\u001b[38;5;241m.\u001b[39mvalidate():\n\u001b[1;32m   1149\u001b[0m         \u001b[38;5;28;01mraise\u001b[39;00m \u001b[38;5;167;01mValueError\u001b[39;00m(\u001b[38;5;124m\"\u001b[39m\u001b[38;5;124mAttribute \u001b[39m\u001b[38;5;124m'\u001b[39m\u001b[38;5;132;01m{}\u001b[39;00m\u001b[38;5;124m'\u001b[39m\u001b[38;5;124m is not correctly typed\u001b[39m\u001b[38;5;124m\"\u001b[39m\u001b[38;5;241m.\u001b[39mformat(attr\u001b[38;5;241m.\u001b[39mattr_name))\n\u001b[0;32m-> 1151\u001b[0m serialized \u001b[38;5;241m=\u001b[39m \u001b[38;5;28;43mself\u001b[39;49m\u001b[38;5;241;43m.\u001b[39;49m\u001b[43m_serialize_value\u001b[49m\u001b[43m(\u001b[49m\u001b[43mattr\u001b[49m\u001b[43m,\u001b[49m\u001b[43m \u001b[49m\u001b[43mvalue\u001b[49m\u001b[43m,\u001b[49m\u001b[43m \u001b[49m\u001b[43mnull_check\u001b[49m\u001b[43m)\u001b[49m\n\u001b[1;32m   1152\u001b[0m \u001b[38;5;28;01mif\u001b[39;00m NULL \u001b[38;5;129;01min\u001b[39;00m serialized:\n\u001b[1;32m   1153\u001b[0m     \u001b[38;5;28;01mcontinue\u001b[39;00m\n",
      "File \u001b[0;32m/usr/local/Caskroom/miniconda/base/envs/python38/lib/python3.8/site-packages/pynamodb/models.py:1183\u001b[0m, in \u001b[0;36mModel._serialize_value\u001b[0;34m(cls, attr, value, null_check)\u001b[0m\n\u001b[1;32m   1181\u001b[0m \u001b[38;5;28;01mif\u001b[39;00m serialized \u001b[38;5;129;01mis\u001b[39;00m \u001b[38;5;28;01mNone\u001b[39;00m:\n\u001b[1;32m   1182\u001b[0m     \u001b[38;5;28;01mif\u001b[39;00m \u001b[38;5;129;01mnot\u001b[39;00m attr\u001b[38;5;241m.\u001b[39mnull \u001b[38;5;129;01mand\u001b[39;00m null_check:\n\u001b[0;32m-> 1183\u001b[0m         \u001b[38;5;28;01mraise\u001b[39;00m \u001b[38;5;167;01mValueError\u001b[39;00m(\u001b[38;5;124m\"\u001b[39m\u001b[38;5;124mAttribute \u001b[39m\u001b[38;5;124m'\u001b[39m\u001b[38;5;132;01m{}\u001b[39;00m\u001b[38;5;124m'\u001b[39m\u001b[38;5;124m cannot be None\u001b[39m\u001b[38;5;124m\"\u001b[39m\u001b[38;5;241m.\u001b[39mformat(attr\u001b[38;5;241m.\u001b[39mattr_name))\n\u001b[1;32m   1184\u001b[0m     \u001b[38;5;28;01mreturn\u001b[39;00m {NULL: \u001b[38;5;28;01mTrue\u001b[39;00m}\n\u001b[1;32m   1186\u001b[0m \u001b[38;5;28;01mreturn\u001b[39;00m {ATTR_TYPE_MAP[attr\u001b[38;5;241m.\u001b[39mattr_type]: serialized}\n",
      "\u001b[0;31mValueError\u001b[0m: Attribute 'email' cannot be None"
     ]
    }
   ],
   "source": [
    "testObject.save()"
   ]
  },
  {
   "cell_type": "code",
   "execution_count": null,
   "metadata": {},
   "outputs": [],
   "source": [
    "USERTABLENAME"
   ]
  },
  {
   "cell_type": "code",
   "execution_count": null,
   "metadata": {},
   "outputs": [],
   "source": [
    "b = UserTable.username_index.count('DelG194')\n",
    "b\n",
    "print(b)\n",
    "if b:\n",
    "    print(True)\n",
    "else: \n",
    "    print(False)"
   ]
  },
  {
   "cell_type": "code",
   "execution_count": null,
   "metadata": {},
   "outputs": [],
   "source": [
    "b = UserTable.get('2453134e-0c1b-43ba-b157-25429ca8231c')\n",
    "b.passwordHash = 'noob'\n",
    "b.save()"
   ]
  },
  {
   "cell_type": "code",
   "execution_count": null,
   "metadata": {},
   "outputs": [
    {
     "ename": "QueryError",
     "evalue": "Failed to query items: An error occurred (ValidationException) on request (0GHOG8A391VHUVL326U86VNC4VVV4KQNSO5AEMVJF66Q9ASUAAJG) on table (usertablechap-test-master) when calling the Query operation: ExpressionAttributeValues contains invalid value: The parameter cannot be converted to a numeric value: chanopsethiwan233@gmail.com for key :0",
     "output_type": "error",
     "traceback": [
      "\u001b[0;31m---------------------------------------------------------------------------\u001b[0m",
      "\u001b[0;31mVerboseClientError\u001b[0m                        Traceback (most recent call last)",
      "File \u001b[0;32m/usr/local/Caskroom/miniconda/base/envs/python38/lib/python3.8/site-packages/pynamodb/connection/base.py:1349\u001b[0m, in \u001b[0;36mConnection.query\u001b[0;34m(self, table_name, hash_key, range_key_condition, filter_condition, attributes_to_get, consistent_read, exclusive_start_key, index_name, limit, return_consumed_capacity, scan_index_forward, select)\u001b[0m\n\u001b[1;32m   1348\u001b[0m \u001b[38;5;28;01mtry\u001b[39;00m:\n\u001b[0;32m-> 1349\u001b[0m     \u001b[38;5;28;01mreturn\u001b[39;00m \u001b[38;5;28;43mself\u001b[39;49m\u001b[38;5;241;43m.\u001b[39;49m\u001b[43mdispatch\u001b[49m\u001b[43m(\u001b[49m\u001b[43mQUERY\u001b[49m\u001b[43m,\u001b[49m\u001b[43m \u001b[49m\u001b[43moperation_kwargs\u001b[49m\u001b[43m)\u001b[49m\n\u001b[1;32m   1350\u001b[0m \u001b[38;5;28;01mexcept\u001b[39;00m BOTOCORE_EXCEPTIONS \u001b[38;5;28;01mas\u001b[39;00m e:\n",
      "File \u001b[0;32m/usr/local/Caskroom/miniconda/base/envs/python38/lib/python3.8/site-packages/pynamodb/connection/base.py:349\u001b[0m, in \u001b[0;36mConnection.dispatch\u001b[0;34m(self, operation_name, operation_kwargs)\u001b[0m\n\u001b[1;32m    348\u001b[0m \u001b[38;5;28mself\u001b[39m\u001b[38;5;241m.\u001b[39msend_pre_boto_callback(operation_name, req_uuid, table_name)\n\u001b[0;32m--> 349\u001b[0m data \u001b[38;5;241m=\u001b[39m \u001b[38;5;28;43mself\u001b[39;49m\u001b[38;5;241;43m.\u001b[39;49m\u001b[43m_make_api_call\u001b[49m\u001b[43m(\u001b[49m\u001b[43moperation_name\u001b[49m\u001b[43m,\u001b[49m\u001b[43m \u001b[49m\u001b[43moperation_kwargs\u001b[49m\u001b[43m)\u001b[49m\n\u001b[1;32m    350\u001b[0m \u001b[38;5;28mself\u001b[39m\u001b[38;5;241m.\u001b[39msend_post_boto_callback(operation_name, req_uuid, table_name)\n",
      "File \u001b[0;32m/usr/local/Caskroom/miniconda/base/envs/python38/lib/python3.8/site-packages/pynamodb/connection/base.py:459\u001b[0m, in \u001b[0;36mConnection._make_api_call\u001b[0;34m(self, operation_name, operation_kwargs)\u001b[0m\n\u001b[1;32m    458\u001b[0m \u001b[38;5;28;01mtry\u001b[39;00m:\n\u001b[0;32m--> 459\u001b[0m     \u001b[38;5;28;01mraise\u001b[39;00m VerboseClientError(botocore_expected_format, operation_name, verbose_properties)\n\u001b[1;32m    460\u001b[0m \u001b[38;5;28;01mexcept\u001b[39;00m VerboseClientError \u001b[38;5;28;01mas\u001b[39;00m e:\n",
      "\u001b[0;31mVerboseClientError\u001b[0m: An error occurred (ValidationException) on request (0GHOG8A391VHUVL326U86VNC4VVV4KQNSO5AEMVJF66Q9ASUAAJG) on table (usertablechap-test-master) when calling the Query operation: ExpressionAttributeValues contains invalid value: The parameter cannot be converted to a numeric value: chanopsethiwan233@gmail.com for key :0",
      "\nDuring handling of the above exception, another exception occurred:\n",
      "\u001b[0;31mQueryError\u001b[0m                                Traceback (most recent call last)",
      "Input \u001b[0;32mIn [23]\u001b[0m, in \u001b[0;36m<cell line: 1>\u001b[0;34m()\u001b[0m\n\u001b[0;32m----> 1\u001b[0m c \u001b[38;5;241m=\u001b[39m \u001b[43mUserTable\u001b[49m\u001b[38;5;241;43m.\u001b[39;49m\u001b[43memail_index\u001b[49m\u001b[38;5;241;43m.\u001b[39;49m\u001b[43mcount\u001b[49m\u001b[43m(\u001b[49m\u001b[38;5;124;43m'\u001b[39;49m\u001b[38;5;124;43mchanopsethiwan233@gmail.com\u001b[39;49m\u001b[38;5;124;43m'\u001b[39;49m\u001b[43m)\u001b[49m\n\u001b[1;32m      2\u001b[0m c\n",
      "File \u001b[0;32m/usr/local/Caskroom/miniconda/base/envs/python38/lib/python3.8/site-packages/pynamodb/indexes.py:71\u001b[0m, in \u001b[0;36mIndex.count\u001b[0;34m(cls, hash_key, range_key_condition, filter_condition, consistent_read, limit, rate_limit)\u001b[0m\n\u001b[1;32m     58\u001b[0m \u001b[38;5;129m@classmethod\u001b[39m\n\u001b[1;32m     59\u001b[0m \u001b[38;5;28;01mdef\u001b[39;00m \u001b[38;5;21mcount\u001b[39m(\n\u001b[1;32m     60\u001b[0m     \u001b[38;5;28mcls\u001b[39m,\n\u001b[0;32m   (...)\u001b[0m\n\u001b[1;32m     66\u001b[0m     rate_limit: Optional[\u001b[38;5;28mfloat\u001b[39m] \u001b[38;5;241m=\u001b[39m \u001b[38;5;28;01mNone\u001b[39;00m,\n\u001b[1;32m     67\u001b[0m ) \u001b[38;5;241m-\u001b[39m\u001b[38;5;241m>\u001b[39m \u001b[38;5;28mint\u001b[39m:\n\u001b[1;32m     68\u001b[0m     \u001b[38;5;124;03m\"\"\"\u001b[39;00m\n\u001b[1;32m     69\u001b[0m \u001b[38;5;124;03m    Count on an index\u001b[39;00m\n\u001b[1;32m     70\u001b[0m \u001b[38;5;124;03m    \"\"\"\u001b[39;00m\n\u001b[0;32m---> 71\u001b[0m     \u001b[38;5;28;01mreturn\u001b[39;00m \u001b[38;5;28;43mcls\u001b[39;49m\u001b[38;5;241;43m.\u001b[39;49m\u001b[43mMeta\u001b[49m\u001b[38;5;241;43m.\u001b[39;49m\u001b[43mmodel\u001b[49m\u001b[38;5;241;43m.\u001b[39;49m\u001b[43mcount\u001b[49m\u001b[43m(\u001b[49m\n\u001b[1;32m     72\u001b[0m \u001b[43m        \u001b[49m\u001b[43mhash_key\u001b[49m\u001b[43m,\u001b[49m\n\u001b[1;32m     73\u001b[0m \u001b[43m        \u001b[49m\u001b[43mrange_key_condition\u001b[49m\u001b[38;5;241;43m=\u001b[39;49m\u001b[43mrange_key_condition\u001b[49m\u001b[43m,\u001b[49m\n\u001b[1;32m     74\u001b[0m \u001b[43m        \u001b[49m\u001b[43mfilter_condition\u001b[49m\u001b[38;5;241;43m=\u001b[39;49m\u001b[43mfilter_condition\u001b[49m\u001b[43m,\u001b[49m\n\u001b[1;32m     75\u001b[0m \u001b[43m        \u001b[49m\u001b[43mindex_name\u001b[49m\u001b[38;5;241;43m=\u001b[39;49m\u001b[38;5;28;43mcls\u001b[39;49m\u001b[38;5;241;43m.\u001b[39;49m\u001b[43mMeta\u001b[49m\u001b[38;5;241;43m.\u001b[39;49m\u001b[43mindex_name\u001b[49m\u001b[43m,\u001b[49m\n\u001b[1;32m     76\u001b[0m \u001b[43m        \u001b[49m\u001b[43mconsistent_read\u001b[49m\u001b[38;5;241;43m=\u001b[39;49m\u001b[43mconsistent_read\u001b[49m\u001b[43m,\u001b[49m\n\u001b[1;32m     77\u001b[0m \u001b[43m        \u001b[49m\u001b[43mlimit\u001b[49m\u001b[38;5;241;43m=\u001b[39;49m\u001b[43mlimit\u001b[49m\u001b[43m,\u001b[49m\n\u001b[1;32m     78\u001b[0m \u001b[43m        \u001b[49m\u001b[43mrate_limit\u001b[49m\u001b[38;5;241;43m=\u001b[39;49m\u001b[43mrate_limit\u001b[49m\u001b[43m,\u001b[49m\n\u001b[1;32m     79\u001b[0m \u001b[43m    \u001b[49m\u001b[43m)\u001b[49m\n",
      "File \u001b[0;32m/usr/local/Caskroom/miniconda/base/envs/python38/lib/python3.8/site-packages/pynamodb/models.py:614\u001b[0m, in \u001b[0;36mModel.count\u001b[0;34m(cls, hash_key, range_key_condition, filter_condition, consistent_read, index_name, limit, rate_limit)\u001b[0m\n\u001b[1;32m    605\u001b[0m result_iterator: ResultIterator[_T] \u001b[38;5;241m=\u001b[39m ResultIterator(\n\u001b[1;32m    606\u001b[0m     \u001b[38;5;28mcls\u001b[39m\u001b[38;5;241m.\u001b[39m_get_connection()\u001b[38;5;241m.\u001b[39mquery,\n\u001b[1;32m    607\u001b[0m     query_args,\n\u001b[0;32m   (...)\u001b[0m\n\u001b[1;32m    610\u001b[0m     rate_limit\u001b[38;5;241m=\u001b[39mrate_limit\n\u001b[1;32m    611\u001b[0m )\n\u001b[1;32m    613\u001b[0m \u001b[38;5;66;03m# iterate through results\u001b[39;00m\n\u001b[0;32m--> 614\u001b[0m \u001b[38;5;28;43mlist\u001b[39;49m\u001b[43m(\u001b[49m\u001b[43mresult_iterator\u001b[49m\u001b[43m)\u001b[49m\n\u001b[1;32m    616\u001b[0m \u001b[38;5;28;01mreturn\u001b[39;00m result_iterator\u001b[38;5;241m.\u001b[39mtotal_count\n",
      "File \u001b[0;32m/usr/local/Caskroom/miniconda/base/envs/python38/lib/python3.8/site-packages/pynamodb/pagination.py:191\u001b[0m, in \u001b[0;36mResultIterator.__next__\u001b[0;34m(self)\u001b[0m\n\u001b[1;32m    189\u001b[0m \u001b[38;5;28;01mif\u001b[39;00m \u001b[38;5;28mself\u001b[39m\u001b[38;5;241m.\u001b[39m_first_iteration:\n\u001b[1;32m    190\u001b[0m     \u001b[38;5;28mself\u001b[39m\u001b[38;5;241m.\u001b[39m_first_iteration \u001b[38;5;241m=\u001b[39m \u001b[38;5;28;01mFalse\u001b[39;00m\n\u001b[0;32m--> 191\u001b[0m     \u001b[38;5;28;43mself\u001b[39;49m\u001b[38;5;241;43m.\u001b[39;49m\u001b[43m_get_next_page\u001b[49m\u001b[43m(\u001b[49m\u001b[43m)\u001b[49m\n\u001b[1;32m    193\u001b[0m \u001b[38;5;28;01mwhile\u001b[39;00m \u001b[38;5;28mself\u001b[39m\u001b[38;5;241m.\u001b[39m_index \u001b[38;5;241m==\u001b[39m \u001b[38;5;28mself\u001b[39m\u001b[38;5;241m.\u001b[39m_count:\n\u001b[1;32m    194\u001b[0m     \u001b[38;5;28mself\u001b[39m\u001b[38;5;241m.\u001b[39m_get_next_page()\n",
      "File \u001b[0;32m/usr/local/Caskroom/miniconda/base/envs/python38/lib/python3.8/site-packages/pynamodb/pagination.py:176\u001b[0m, in \u001b[0;36mResultIterator._get_next_page\u001b[0;34m(self)\u001b[0m\n\u001b[1;32m    175\u001b[0m \u001b[38;5;28;01mdef\u001b[39;00m \u001b[38;5;21m_get_next_page\u001b[39m(\u001b[38;5;28mself\u001b[39m) \u001b[38;5;241m-\u001b[39m\u001b[38;5;241m>\u001b[39m \u001b[38;5;28;01mNone\u001b[39;00m:\n\u001b[0;32m--> 176\u001b[0m     page \u001b[38;5;241m=\u001b[39m \u001b[38;5;28;43mnext\u001b[39;49m\u001b[43m(\u001b[49m\u001b[38;5;28;43mself\u001b[39;49m\u001b[38;5;241;43m.\u001b[39;49m\u001b[43mpage_iter\u001b[49m\u001b[43m)\u001b[49m\n\u001b[1;32m    177\u001b[0m     \u001b[38;5;28mself\u001b[39m\u001b[38;5;241m.\u001b[39m_count \u001b[38;5;241m=\u001b[39m page[CAMEL_COUNT]\n\u001b[1;32m    178\u001b[0m     \u001b[38;5;28mself\u001b[39m\u001b[38;5;241m.\u001b[39m_items \u001b[38;5;241m=\u001b[39m page\u001b[38;5;241m.\u001b[39mget(ITEMS)  \u001b[38;5;66;03m# not returned if 'Select' is set to 'COUNT'\u001b[39;00m\n",
      "File \u001b[0;32m/usr/local/Caskroom/miniconda/base/envs/python38/lib/python3.8/site-packages/pynamodb/pagination.py:113\u001b[0m, in \u001b[0;36mPageIterator.__next__\u001b[0;34m(self)\u001b[0m\n\u001b[1;32m    111\u001b[0m     \u001b[38;5;28mself\u001b[39m\u001b[38;5;241m.\u001b[39m_rate_limiter\u001b[38;5;241m.\u001b[39macquire()\n\u001b[1;32m    112\u001b[0m     \u001b[38;5;28mself\u001b[39m\u001b[38;5;241m.\u001b[39m_kwargs[\u001b[38;5;124m'\u001b[39m\u001b[38;5;124mreturn_consumed_capacity\u001b[39m\u001b[38;5;124m'\u001b[39m] \u001b[38;5;241m=\u001b[39m TOTAL\n\u001b[0;32m--> 113\u001b[0m page \u001b[38;5;241m=\u001b[39m \u001b[38;5;28;43mself\u001b[39;49m\u001b[38;5;241;43m.\u001b[39;49m\u001b[43m_operation\u001b[49m\u001b[43m(\u001b[49m\u001b[38;5;241;43m*\u001b[39;49m\u001b[38;5;28;43mself\u001b[39;49m\u001b[38;5;241;43m.\u001b[39;49m\u001b[43m_args\u001b[49m\u001b[43m,\u001b[49m\u001b[43m \u001b[49m\u001b[38;5;241;43m*\u001b[39;49m\u001b[38;5;241;43m*\u001b[39;49m\u001b[38;5;28;43mself\u001b[39;49m\u001b[38;5;241;43m.\u001b[39;49m\u001b[43m_kwargs\u001b[49m\u001b[43m)\u001b[49m\n\u001b[1;32m    114\u001b[0m \u001b[38;5;28mself\u001b[39m\u001b[38;5;241m.\u001b[39m_last_evaluated_key \u001b[38;5;241m=\u001b[39m page\u001b[38;5;241m.\u001b[39mget(LAST_EVALUATED_KEY)\n\u001b[1;32m    115\u001b[0m \u001b[38;5;28mself\u001b[39m\u001b[38;5;241m.\u001b[39m_total_scanned_count \u001b[38;5;241m+\u001b[39m\u001b[38;5;241m=\u001b[39m page[SCANNED_COUNT]\n",
      "File \u001b[0;32m/usr/local/Caskroom/miniconda/base/envs/python38/lib/python3.8/site-packages/pynamodb/connection/table.py:258\u001b[0m, in \u001b[0;36mTableConnection.query\u001b[0;34m(self, hash_key, range_key_condition, filter_condition, attributes_to_get, consistent_read, exclusive_start_key, index_name, limit, return_consumed_capacity, scan_index_forward, select)\u001b[0m\n\u001b[1;32m    241\u001b[0m \u001b[38;5;28;01mdef\u001b[39;00m \u001b[38;5;21mquery\u001b[39m(\n\u001b[1;32m    242\u001b[0m     \u001b[38;5;28mself\u001b[39m,\n\u001b[1;32m    243\u001b[0m     hash_key: \u001b[38;5;28mstr\u001b[39m,\n\u001b[0;32m   (...)\u001b[0m\n\u001b[1;32m    253\u001b[0m     select: Optional[\u001b[38;5;28mstr\u001b[39m] \u001b[38;5;241m=\u001b[39m \u001b[38;5;28;01mNone\u001b[39;00m,\n\u001b[1;32m    254\u001b[0m ) \u001b[38;5;241m-\u001b[39m\u001b[38;5;241m>\u001b[39m Dict:\n\u001b[1;32m    255\u001b[0m     \u001b[38;5;124;03m\"\"\"\u001b[39;00m\n\u001b[1;32m    256\u001b[0m \u001b[38;5;124;03m    Performs the Query operation and returns the result\u001b[39;00m\n\u001b[1;32m    257\u001b[0m \u001b[38;5;124;03m    \"\"\"\u001b[39;00m\n\u001b[0;32m--> 258\u001b[0m     \u001b[38;5;28;01mreturn\u001b[39;00m \u001b[38;5;28;43mself\u001b[39;49m\u001b[38;5;241;43m.\u001b[39;49m\u001b[43mconnection\u001b[49m\u001b[38;5;241;43m.\u001b[39;49m\u001b[43mquery\u001b[49m\u001b[43m(\u001b[49m\n\u001b[1;32m    259\u001b[0m \u001b[43m        \u001b[49m\u001b[38;5;28;43mself\u001b[39;49m\u001b[38;5;241;43m.\u001b[39;49m\u001b[43mtable_name\u001b[49m\u001b[43m,\u001b[49m\n\u001b[1;32m    260\u001b[0m \u001b[43m        \u001b[49m\u001b[43mhash_key\u001b[49m\u001b[43m,\u001b[49m\n\u001b[1;32m    261\u001b[0m \u001b[43m        \u001b[49m\u001b[43mrange_key_condition\u001b[49m\u001b[38;5;241;43m=\u001b[39;49m\u001b[43mrange_key_condition\u001b[49m\u001b[43m,\u001b[49m\n\u001b[1;32m    262\u001b[0m \u001b[43m        \u001b[49m\u001b[43mfilter_condition\u001b[49m\u001b[38;5;241;43m=\u001b[39;49m\u001b[43mfilter_condition\u001b[49m\u001b[43m,\u001b[49m\n\u001b[1;32m    263\u001b[0m \u001b[43m        \u001b[49m\u001b[43mattributes_to_get\u001b[49m\u001b[38;5;241;43m=\u001b[39;49m\u001b[43mattributes_to_get\u001b[49m\u001b[43m,\u001b[49m\n\u001b[1;32m    264\u001b[0m \u001b[43m        \u001b[49m\u001b[43mconsistent_read\u001b[49m\u001b[38;5;241;43m=\u001b[39;49m\u001b[43mconsistent_read\u001b[49m\u001b[43m,\u001b[49m\n\u001b[1;32m    265\u001b[0m \u001b[43m        \u001b[49m\u001b[43mexclusive_start_key\u001b[49m\u001b[38;5;241;43m=\u001b[39;49m\u001b[43mexclusive_start_key\u001b[49m\u001b[43m,\u001b[49m\n\u001b[1;32m    266\u001b[0m \u001b[43m        \u001b[49m\u001b[43mindex_name\u001b[49m\u001b[38;5;241;43m=\u001b[39;49m\u001b[43mindex_name\u001b[49m\u001b[43m,\u001b[49m\n\u001b[1;32m    267\u001b[0m \u001b[43m        \u001b[49m\u001b[43mlimit\u001b[49m\u001b[38;5;241;43m=\u001b[39;49m\u001b[43mlimit\u001b[49m\u001b[43m,\u001b[49m\n\u001b[1;32m    268\u001b[0m \u001b[43m        \u001b[49m\u001b[43mreturn_consumed_capacity\u001b[49m\u001b[38;5;241;43m=\u001b[39;49m\u001b[43mreturn_consumed_capacity\u001b[49m\u001b[43m,\u001b[49m\n\u001b[1;32m    269\u001b[0m \u001b[43m        \u001b[49m\u001b[43mscan_index_forward\u001b[49m\u001b[38;5;241;43m=\u001b[39;49m\u001b[43mscan_index_forward\u001b[49m\u001b[43m,\u001b[49m\n\u001b[1;32m    270\u001b[0m \u001b[43m        \u001b[49m\u001b[43mselect\u001b[49m\u001b[38;5;241;43m=\u001b[39;49m\u001b[43mselect\u001b[49m\u001b[43m)\u001b[49m\n",
      "File \u001b[0;32m/usr/local/Caskroom/miniconda/base/envs/python38/lib/python3.8/site-packages/pynamodb/connection/base.py:1351\u001b[0m, in \u001b[0;36mConnection.query\u001b[0;34m(self, table_name, hash_key, range_key_condition, filter_condition, attributes_to_get, consistent_read, exclusive_start_key, index_name, limit, return_consumed_capacity, scan_index_forward, select)\u001b[0m\n\u001b[1;32m   1349\u001b[0m     \u001b[38;5;28;01mreturn\u001b[39;00m \u001b[38;5;28mself\u001b[39m\u001b[38;5;241m.\u001b[39mdispatch(QUERY, operation_kwargs)\n\u001b[1;32m   1350\u001b[0m \u001b[38;5;28;01mexcept\u001b[39;00m BOTOCORE_EXCEPTIONS \u001b[38;5;28;01mas\u001b[39;00m e:\n\u001b[0;32m-> 1351\u001b[0m     \u001b[38;5;28;01mraise\u001b[39;00m QueryError(\u001b[38;5;124m\"\u001b[39m\u001b[38;5;124mFailed to query items: \u001b[39m\u001b[38;5;132;01m{}\u001b[39;00m\u001b[38;5;124m\"\u001b[39m\u001b[38;5;241m.\u001b[39mformat(e), e)\n",
      "\u001b[0;31mQueryError\u001b[0m: Failed to query items: An error occurred (ValidationException) on request (0GHOG8A391VHUVL326U86VNC4VVV4KQNSO5AEMVJF66Q9ASUAAJG) on table (usertablechap-test-master) when calling the Query operation: ExpressionAttributeValues contains invalid value: The parameter cannot be converted to a numeric value: chanopsethiwan233@gmail.com for key :0"
     ]
    }
   ],
   "source": [
    "c = UserTable.email_index.count('chanopsethiwan233@gmail.com')\n",
    "c"
   ]
  },
  {
   "cell_type": "code",
   "execution_count": null,
   "metadata": {},
   "outputs": [],
   "source": []
  }
 ],
 "metadata": {
  "kernelspec": {
   "display_name": "python38",
   "language": "python",
   "name": "python38"
  }
 },
 "nbformat": 4,
 "nbformat_minor": 4
}
