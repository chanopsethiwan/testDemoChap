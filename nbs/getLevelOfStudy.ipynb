{
 "cells": [
  {
   "cell_type": "code",
   "execution_count": null,
   "id": "50c24372-88ac-4143-9007-595b068bdb82",
   "metadata": {},
   "outputs": [],
   "source": [
    "# default_exp getLevelOfStudy"
   ]
  },
  {
   "cell_type": "markdown",
   "id": "3059dc60-8f77-4526-936b-1a102608affd",
   "metadata": {},
   "source": [
    "## Get Level of Study\n",
    "\n",
    "> Obtain the level of study of the person"
   ]
  },
  {
   "cell_type": "code",
   "execution_count": null,
   "id": "b4c23351-34ee-4e78-a26e-9890ac2258e2",
   "metadata": {},
   "outputs": [],
   "source": [
    "#hide\n",
    "import src.setEnv \n",
    "import requests"
   ]
  },
  {
   "cell_type": "code",
   "execution_count": null,
   "id": "2ce64b93-8907-4c9e-be9f-cb195731cca5",
   "metadata": {},
   "outputs": [],
   "source": [
    "#export \n",
    "from src.userTable import UserTable\n",
    "from awsSchema.apigateway import Response, Event\n",
    "from copy import deepcopy\n",
    "from src.saltHashPassword import hash_password, check_password\n",
    "from dataclasses import dataclass\n",
    "from dataclasses_json import dataclass_json\n",
    "from beartype import beartype"
   ]
  },
  {
   "cell_type": "markdown",
   "id": "7e40ee9e-40c4-4a9c-99f5-4204b3cddbb6",
   "metadata": {},
   "source": [
    "## Get Level of Study Input Class"
   ]
  },
  {
   "cell_type": "code",
   "execution_count": null,
   "id": "49798b04-0a11-4439-b4ac-cacf96d25b29",
   "metadata": {},
   "outputs": [],
   "source": [
    "#export\n",
    "@dataclass_json\n",
    "@dataclass\n",
    "class GetLevelOfStudyInput:\n",
    "    username: str\n",
    "    "
   ]
  },
  {
   "cell_type": "markdown",
   "id": "465eaa32-a22d-437d-a8ca-3c8e3c736520",
   "metadata": {},
   "source": [
    "## Main Lambda Handler"
   ]
  },
  {
   "cell_type": "code",
   "execution_count": null,
   "id": "a6e801d1-b67c-4870-9890-126c3f06dc68",
   "metadata": {},
   "outputs": [],
   "source": [
    "#export\n",
    "class H:\n",
    "    class ParseInputError: pass\n",
    "    class UsernameQueryError: pass\n",
    "    class LevelOfStudyError: pass\n",
    "    \n",
    "    @classmethod\n",
    "    @beartype\n",
    "    def parseInput(cls, event: dict)->GetLevelOfStudyInput:\n",
    "        try:\n",
    "            params = Event.parseQuery(event)\n",
    "            user = GetLevelOfStudyInput.from_dict(params)\n",
    "            return user\n",
    "        except Exception as e:\n",
    "            raise cls.ParseInputError(e)\n",
    "            \n",
    "    @classmethod\n",
    "    @beartype\n",
    "    def obtainLevelOfStudy(cls, user: GetLevelOfStudyInput):\n",
    "        try:\n",
    "            usernameQuery = UserTable.username_index.query(user.username)\n",
    "        except Exception as e:\n",
    "            raise cls.UsernameQueryError\n",
    "        try:\n",
    "            for i in usernameQuery:\n",
    "                return i.levelOfStudy\n",
    "        except:\n",
    "            raise cls.LevelOfStudyError"
   ]
  },
  {
   "cell_type": "code",
   "execution_count": null,
   "id": "4172323f-a060-4d14-a9df-0d72306ab4ae",
   "metadata": {},
   "outputs": [],
   "source": [
    "#export \n",
    "def getLevelOfStudy(event, *args):\n",
    "    try: \n",
    "        user = H.parseInput(event)\n",
    "        levelOfStudy = H.obtainLevelOfStudy(user)\n",
    "        return Response.returnSuccess(f'{levelOfStudy}')\n",
    "    except H.ParseInputError as e:\n",
    "        return Response.returnError(f'failed to parse input {e}')\n",
    "    except H.UsernameQueryError as e:\n",
    "        return Reponse.returnError(f'failed to query username {e}')\n",
    "    except H.LevelOfStudyError as e:\n",
    "        return Response.returnError(f'unable to query for level of study {e}')\n",
    "    except Exception as e:\n",
    "        return Response.returnError(f' unknown error {e}')\n",
    "        "
   ]
  },
  {
   "cell_type": "code",
   "execution_count": null,
   "id": "b4da0a3f-0f10-44b6-8e6c-a9f90be03f59",
   "metadata": {},
   "outputs": [
    {
     "name": "stdout",
     "output_type": "stream",
     "text": [
      "University\n"
     ]
    }
   ],
   "source": [
    "usernameQuery = UserTable.username_index.query('Delg45678')\n",
    "for i in usernameQuery:\n",
    "    print(i.levelOfStudy)"
   ]
  },
  {
   "cell_type": "code",
   "execution_count": null,
   "id": "e608b2b6-339c-4f7e-a716-62b3316f113f",
   "metadata": {},
   "outputs": [],
   "source": []
  }
 ],
 "metadata": {
  "kernelspec": {
   "display_name": "python38",
   "language": "python",
   "name": "python38"
  }
 },
 "nbformat": 4,
 "nbformat_minor": 5
}
