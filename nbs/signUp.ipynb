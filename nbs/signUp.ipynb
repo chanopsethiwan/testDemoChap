{
 "cells": [
  {
   "cell_type": "code",
   "execution_count": null,
   "metadata": {},
   "outputs": [],
   "source": [
    "# default_exp signUp"
   ]
  },
  {
   "cell_type": "markdown",
   "metadata": {},
   "source": [
    "# SignUp\n",
    "\n",
    "> Interface to sign up user"
   ]
  },
  {
   "cell_type": "code",
   "execution_count": 3,
   "metadata": {},
   "outputs": [],
   "source": [
    "#hide\n",
    "from nbdev.showdoc import *"
   ]
  },
  {
   "cell_type": "code",
   "execution_count": 4,
   "metadata": {},
   "outputs": [],
   "source": [
    "#export \n",
    "from src.userTable import UserTable\n",
    "from awsSchema.apigateway import Response, Event\n",
    "from copy import deepcopy\n",
    "from beartype import beartype\n",
    "from uuid import uuid4\n",
    "from src.saltHashPassword import hash_password, check_password\n",
    "from dataclasses import dataclass\n",
    "from dataclasses_json import dataclass_json\n",
    "from time import time"
   ]
  },
  {
   "cell_type": "code",
   "execution_count": 5,
   "metadata": {},
   "outputs": [
    {
     "data": {
      "text/plain": [
       "'a146a2e813e29e01e0efe8746e676354b1a03a4ed410442b3101f6f7ffb1dcf6:856cd761f8ed49a5a24b540008c89918'"
      ]
     },
     "execution_count": 5,
     "metadata": {},
     "output_type": "execute_result"
    }
   ],
   "source": [
    "#check whether hash password is working here\n",
    "examplePassword1 = '123'\n",
    "exampleHashedPassword1 = hash_password(examplePassword1)\n",
    "exampleHashedPassword1"
   ]
  },
  {
   "cell_type": "markdown",
   "metadata": {},
   "source": [
    "## User Input Class"
   ]
  },
  {
   "cell_type": "code",
   "execution_count": 6,
   "metadata": {},
   "outputs": [],
   "source": [
    "#export \n",
    "@dataclass_json\n",
    "@dataclass\n",
    "class UserInput:\n",
    "    username: str\n",
    "    password: str\n",
    "    \n",
    "    @property\n",
    "    def passwordHash(self):\n",
    "        return hash_password(self.password)\n",
    "    \n",
    "    def saveTable(self):\n",
    "        userTable = UserTable(\n",
    "                userId = str(uuid4()),\n",
    "                username = self.username,\n",
    "                date = time(),\n",
    "                passwordHash = self.passwordHash\n",
    "            )\n",
    "        userTable.save()\n",
    "        "
   ]
  },
  {
   "cell_type": "code",
   "execution_count": 7,
   "metadata": {},
   "outputs": [
    {
     "data": {
      "text/plain": [
       "UserInput(username='DelG', password='123')"
      ]
     },
     "execution_count": 7,
     "metadata": {},
     "output_type": "execute_result"
    }
   ],
   "source": [
    "example = UserInput.from_dict({'username': 'DelG', 'password': '123'})\n",
    "example"
   ]
  },
  {
   "cell_type": "code",
   "execution_count": 24,
   "metadata": {},
   "outputs": [],
   "source": [
    "#export \n",
    "class H:\n",
    "    class ParseInputError(Exception): pass\n",
    "    class SavingError(Exception): pass\n",
    "    @staticmethod\n",
    "    @beartype\n",
    "    def parseInput(event:dict)->UserInput:\n",
    "        try:\n",
    "            user = Event.parseDataClass(UserInput, deepcopy(event))\n",
    "            return user\n",
    "        except Exception as e:\n",
    "            raise ParseInputError(e)\n",
    " \n",
    "    def saveUserMethod(user:UserInput)->bool:\n",
    "        try:\n",
    "            user.saveTable()\n",
    "            return True\n",
    "        except Exception as e:\n",
    "            raise e\n",
    "    \n",
    "        "
   ]
  },
  {
   "cell_type": "markdown",
   "metadata": {},
   "source": [
    "## Main Lambda Handler"
   ]
  },
  {
   "cell_type": "code",
   "execution_count": 25,
   "metadata": {},
   "outputs": [],
   "source": [
    "#export\n",
    "def signUp(events, *args):\n",
    "    try:\n",
    "        user = H.parseInput(event)\n",
    "        H.saveUserMethod(user)\n",
    "        return Response.returnSuccess()\n",
    "    except H.SavingError as e:\n",
    "        return Response.returnError(f'failed saving user {e}')\n",
    "    # except Exception as e:\n",
    "    #     return Response.returnError(f' unknown error {e}')\n",
    "    "
   ]
  },
  {
   "cell_type": "code",
   "execution_count": 26,
   "metadata": {},
   "outputs": [
    {
     "ename": "AttributeError",
     "evalue": "As of v1.0 PyanmoDB Models must have a table_name\nModel: src.userTable.UserTable\nSee https://pynamodb.readthedocs.io/en/latest/release_notes.html",
     "output_type": "error",
     "traceback": [
      "\u001b[0;31m---------------------------------------------------------------------------\u001b[0m",
      "\u001b[0;31mAttributeError\u001b[0m                            Traceback (most recent call last)",
      "Input \u001b[0;32mIn [26]\u001b[0m, in \u001b[0;36m<cell line: 3>\u001b[0;34m()\u001b[0m\n\u001b[1;32m      1\u001b[0m input_ \u001b[38;5;241m=\u001b[39m {\u001b[38;5;124m'\u001b[39m\u001b[38;5;124musername\u001b[39m\u001b[38;5;124m'\u001b[39m: \u001b[38;5;124m'\u001b[39m\u001b[38;5;124mDelG\u001b[39m\u001b[38;5;124m'\u001b[39m, \u001b[38;5;124m'\u001b[39m\u001b[38;5;124mpassword\u001b[39m\u001b[38;5;124m'\u001b[39m: \u001b[38;5;124m'\u001b[39m\u001b[38;5;124m123\u001b[39m\u001b[38;5;124m'\u001b[39m}\n\u001b[1;32m      2\u001b[0m event \u001b[38;5;241m=\u001b[39m Event\u001b[38;5;241m.\u001b[39mgetInput(body \u001b[38;5;241m=\u001b[39m input_)\n\u001b[0;32m----> 3\u001b[0m \u001b[43msignUp\u001b[49m\u001b[43m(\u001b[49m\u001b[43mevent\u001b[49m\u001b[43m)\u001b[49m\n",
      "Input \u001b[0;32mIn [25]\u001b[0m, in \u001b[0;36msignUp\u001b[0;34m(events, *args)\u001b[0m\n\u001b[1;32m      3\u001b[0m \u001b[38;5;28;01mtry\u001b[39;00m:\n\u001b[1;32m      4\u001b[0m     user \u001b[38;5;241m=\u001b[39m H\u001b[38;5;241m.\u001b[39mparseInput(event)\n\u001b[0;32m----> 5\u001b[0m     \u001b[43mH\u001b[49m\u001b[38;5;241;43m.\u001b[39;49m\u001b[43msaveUserMethod\u001b[49m\u001b[43m(\u001b[49m\u001b[43muser\u001b[49m\u001b[43m)\u001b[49m\n\u001b[1;32m      6\u001b[0m     \u001b[38;5;28;01mreturn\u001b[39;00m Response\u001b[38;5;241m.\u001b[39mreturnSuccess()\n\u001b[1;32m      7\u001b[0m \u001b[38;5;28;01mexcept\u001b[39;00m H\u001b[38;5;241m.\u001b[39mSavingError \u001b[38;5;28;01mas\u001b[39;00m e:\n",
      "Input \u001b[0;32mIn [24]\u001b[0m, in \u001b[0;36mH.saveUserMethod\u001b[0;34m(user)\u001b[0m\n\u001b[1;32m     17\u001b[0m     \u001b[38;5;28;01mreturn\u001b[39;00m \u001b[38;5;28;01mTrue\u001b[39;00m\n\u001b[1;32m     18\u001b[0m \u001b[38;5;28;01mexcept\u001b[39;00m \u001b[38;5;167;01mException\u001b[39;00m \u001b[38;5;28;01mas\u001b[39;00m e:\n\u001b[0;32m---> 19\u001b[0m     \u001b[38;5;28;01mraise\u001b[39;00m e\n",
      "Input \u001b[0;32mIn [24]\u001b[0m, in \u001b[0;36mH.saveUserMethod\u001b[0;34m(user)\u001b[0m\n\u001b[1;32m     14\u001b[0m \u001b[38;5;28;01mdef\u001b[39;00m \u001b[38;5;21msaveUserMethod\u001b[39m(user:UserInput)\u001b[38;5;241m-\u001b[39m\u001b[38;5;241m>\u001b[39m\u001b[38;5;28mbool\u001b[39m:\n\u001b[1;32m     15\u001b[0m     \u001b[38;5;28;01mtry\u001b[39;00m:\n\u001b[0;32m---> 16\u001b[0m         \u001b[43muser\u001b[49m\u001b[38;5;241;43m.\u001b[39;49m\u001b[43msaveTable\u001b[49m\u001b[43m(\u001b[49m\u001b[43m)\u001b[49m\n\u001b[1;32m     17\u001b[0m         \u001b[38;5;28;01mreturn\u001b[39;00m \u001b[38;5;28;01mTrue\u001b[39;00m\n\u001b[1;32m     18\u001b[0m     \u001b[38;5;28;01mexcept\u001b[39;00m \u001b[38;5;167;01mException\u001b[39;00m \u001b[38;5;28;01mas\u001b[39;00m e:\n",
      "Input \u001b[0;32mIn [6]\u001b[0m, in \u001b[0;36mUserInput.saveTable\u001b[0;34m(self)\u001b[0m\n\u001b[1;32m     12\u001b[0m \u001b[38;5;28;01mdef\u001b[39;00m \u001b[38;5;21msaveTable\u001b[39m(\u001b[38;5;28mself\u001b[39m):\n\u001b[1;32m     13\u001b[0m     userTable \u001b[38;5;241m=\u001b[39m UserTable(\n\u001b[1;32m     14\u001b[0m             userId \u001b[38;5;241m=\u001b[39m \u001b[38;5;28mstr\u001b[39m(uuid4()),\n\u001b[1;32m     15\u001b[0m             username \u001b[38;5;241m=\u001b[39m \u001b[38;5;28mself\u001b[39m\u001b[38;5;241m.\u001b[39musername,\n\u001b[1;32m     16\u001b[0m             date \u001b[38;5;241m=\u001b[39m time(),\n\u001b[1;32m     17\u001b[0m             passwordHash \u001b[38;5;241m=\u001b[39m \u001b[38;5;28mself\u001b[39m\u001b[38;5;241m.\u001b[39mpasswordHash\n\u001b[1;32m     18\u001b[0m         )\n\u001b[0;32m---> 19\u001b[0m     \u001b[43muserTable\u001b[49m\u001b[38;5;241;43m.\u001b[39;49m\u001b[43msave\u001b[49m\u001b[43m(\u001b[49m\u001b[43m)\u001b[49m\n",
      "File \u001b[0;32m/usr/local/Caskroom/miniconda/base/envs/python38/lib/python3.8/site-packages/pynamodb/models.py:450\u001b[0m, in \u001b[0;36mModel.save\u001b[0;34m(self, condition)\u001b[0m\n\u001b[1;32m    448\u001b[0m     condition \u001b[38;5;241m&\u001b[39m\u001b[38;5;241m=\u001b[39m version_condition\n\u001b[1;32m    449\u001b[0m kwargs\u001b[38;5;241m.\u001b[39mupdate(condition\u001b[38;5;241m=\u001b[39mcondition)\n\u001b[0;32m--> 450\u001b[0m data \u001b[38;5;241m=\u001b[39m \u001b[38;5;28;43mself\u001b[39;49m\u001b[38;5;241;43m.\u001b[39;49m\u001b[43m_get_connection\u001b[49m\u001b[43m(\u001b[49m\u001b[43m)\u001b[49m\u001b[38;5;241m.\u001b[39mput_item(\u001b[38;5;241m*\u001b[39margs, \u001b[38;5;241m*\u001b[39m\u001b[38;5;241m*\u001b[39mkwargs)\n\u001b[1;32m    451\u001b[0m \u001b[38;5;28mself\u001b[39m\u001b[38;5;241m.\u001b[39mupdate_local_version_attribute()\n\u001b[1;32m    452\u001b[0m \u001b[38;5;28;01mreturn\u001b[39;00m data\n",
      "File \u001b[0;32m/usr/local/Caskroom/miniconda/base/envs/python38/lib/python3.8/site-packages/pynamodb/models.py:1098\u001b[0m, in \u001b[0;36mModel._get_connection\u001b[0;34m(cls)\u001b[0m\n\u001b[1;32m   1090\u001b[0m     \u001b[38;5;28;01mraise\u001b[39;00m \u001b[38;5;167;01mAttributeError\u001b[39;00m(\n\u001b[1;32m   1091\u001b[0m         \u001b[38;5;124m'\u001b[39m\u001b[38;5;124mAs of v1.0 PynamoDB Models require a `Meta` class.\u001b[39m\u001b[38;5;130;01m\\n\u001b[39;00m\u001b[38;5;124m'\u001b[39m\n\u001b[1;32m   1092\u001b[0m         \u001b[38;5;124m'\u001b[39m\u001b[38;5;124mModel: \u001b[39m\u001b[38;5;132;01m{}\u001b[39;00m\u001b[38;5;124m.\u001b[39m\u001b[38;5;132;01m{}\u001b[39;00m\u001b[38;5;130;01m\\n\u001b[39;00m\u001b[38;5;124m'\u001b[39m\n\u001b[0;32m   (...)\u001b[0m\n\u001b[1;32m   1095\u001b[0m         ),\n\u001b[1;32m   1096\u001b[0m     )\n\u001b[1;32m   1097\u001b[0m \u001b[38;5;28;01melif\u001b[39;00m \u001b[38;5;129;01mnot\u001b[39;00m \u001b[38;5;28mhasattr\u001b[39m(\u001b[38;5;28mcls\u001b[39m\u001b[38;5;241m.\u001b[39mMeta, \u001b[38;5;124m\"\u001b[39m\u001b[38;5;124mtable_name\u001b[39m\u001b[38;5;124m\"\u001b[39m) \u001b[38;5;129;01mor\u001b[39;00m \u001b[38;5;28mcls\u001b[39m\u001b[38;5;241m.\u001b[39mMeta\u001b[38;5;241m.\u001b[39mtable_name \u001b[38;5;129;01mis\u001b[39;00m \u001b[38;5;28;01mNone\u001b[39;00m:\n\u001b[0;32m-> 1098\u001b[0m     \u001b[38;5;28;01mraise\u001b[39;00m \u001b[38;5;167;01mAttributeError\u001b[39;00m(\n\u001b[1;32m   1099\u001b[0m         \u001b[38;5;124m'\u001b[39m\u001b[38;5;124mAs of v1.0 PyanmoDB Models must have a table_name\u001b[39m\u001b[38;5;130;01m\\n\u001b[39;00m\u001b[38;5;124m'\u001b[39m\n\u001b[1;32m   1100\u001b[0m         \u001b[38;5;124m'\u001b[39m\u001b[38;5;124mModel: \u001b[39m\u001b[38;5;132;01m{}\u001b[39;00m\u001b[38;5;124m.\u001b[39m\u001b[38;5;132;01m{}\u001b[39;00m\u001b[38;5;130;01m\\n\u001b[39;00m\u001b[38;5;124m'\u001b[39m\n\u001b[1;32m   1101\u001b[0m         \u001b[38;5;124m'\u001b[39m\u001b[38;5;124mSee https://pynamodb.readthedocs.io/en/latest/release_notes.html\u001b[39m\u001b[38;5;124m'\u001b[39m\u001b[38;5;241m.\u001b[39mformat(\n\u001b[1;32m   1102\u001b[0m             \u001b[38;5;28mcls\u001b[39m\u001b[38;5;241m.\u001b[39m\u001b[38;5;18m__module__\u001b[39m, \u001b[38;5;28mcls\u001b[39m\u001b[38;5;241m.\u001b[39m\u001b[38;5;18m__name__\u001b[39m,\n\u001b[1;32m   1103\u001b[0m         ),\n\u001b[1;32m   1104\u001b[0m     )\n\u001b[1;32m   1105\u001b[0m \u001b[38;5;28;01mif\u001b[39;00m \u001b[38;5;28mcls\u001b[39m\u001b[38;5;241m.\u001b[39m_connection \u001b[38;5;129;01mis\u001b[39;00m \u001b[38;5;28;01mNone\u001b[39;00m:\n\u001b[1;32m   1106\u001b[0m     \u001b[38;5;28mcls\u001b[39m\u001b[38;5;241m.\u001b[39m_connection \u001b[38;5;241m=\u001b[39m TableConnection(\u001b[38;5;28mcls\u001b[39m\u001b[38;5;241m.\u001b[39mMeta\u001b[38;5;241m.\u001b[39mtable_name,\n\u001b[1;32m   1107\u001b[0m                                       region\u001b[38;5;241m=\u001b[39m\u001b[38;5;28mcls\u001b[39m\u001b[38;5;241m.\u001b[39mMeta\u001b[38;5;241m.\u001b[39mregion,\n\u001b[1;32m   1108\u001b[0m                                       host\u001b[38;5;241m=\u001b[39m\u001b[38;5;28mcls\u001b[39m\u001b[38;5;241m.\u001b[39mMeta\u001b[38;5;241m.\u001b[39mhost,\n\u001b[0;32m   (...)\u001b[0m\n\u001b[1;32m   1118\u001b[0m                                       dax_write_endpoints\u001b[38;5;241m=\u001b[39m\u001b[38;5;28mcls\u001b[39m\u001b[38;5;241m.\u001b[39mMeta\u001b[38;5;241m.\u001b[39mdax_write_endpoints,\n\u001b[1;32m   1119\u001b[0m                                       dax_read_endpoints\u001b[38;5;241m=\u001b[39m\u001b[38;5;28mcls\u001b[39m\u001b[38;5;241m.\u001b[39mMeta\u001b[38;5;241m.\u001b[39mdax_read_endpoints)\n",
      "\u001b[0;31mAttributeError\u001b[0m: As of v1.0 PyanmoDB Models must have a table_name\nModel: src.userTable.UserTable\nSee https://pynamodb.readthedocs.io/en/latest/release_notes.html"
     ]
    }
   ],
   "source": [
    "input_ = {'username': 'DelG', 'password': '123'}\n",
    "event = Event.getInput(body = input_)\n",
    "signUp(event)"
   ]
  },
  {
   "cell_type": "code",
   "execution_count": 37,
   "metadata": {},
   "outputs": [
    {
     "data": {
      "text/plain": [
       "1658677547.060287"
      ]
     },
     "execution_count": 37,
     "metadata": {},
     "output_type": "execute_result"
    }
   ],
   "source": [
    "epoch = time()\n",
    "epoch"
   ]
  },
  {
   "cell_type": "code",
   "execution_count": null,
   "metadata": {},
   "outputs": [],
   "source": []
  }
 ],
 "metadata": {
  "kernelspec": {
   "display_name": "python38",
   "language": "python",
   "name": "python38"
  },
  "language_info": {
   "codemirror_mode": {
    "name": "ipython",
    "version": 3
   },
   "file_extension": ".py",
   "mimetype": "text/x-python",
   "name": "python",
   "nbconvert_exporter": "python",
   "pygments_lexer": "ipython3",
   "version": "3.8.8"
  }
 },
 "nbformat": 4,
 "nbformat_minor": 4
}
