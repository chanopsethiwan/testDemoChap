{
 "cells": [
  {
   "cell_type": "code",
   "execution_count": null,
   "metadata": {},
   "outputs": [],
   "source": [
    "# default_exp signUp"
   ]
  },
  {
   "cell_type": "markdown",
   "metadata": {},
   "source": [
    "# SignUp\n",
    "\n",
    "> Interface to sign up user"
   ]
  },
  {
   "cell_type": "code",
   "execution_count": null,
   "metadata": {},
   "outputs": [],
   "source": [
    "#hide\n",
    "from nbdev.showdoc import *\n",
    "import src.setEnv "
   ]
  },
  {
   "cell_type": "code",
   "execution_count": null,
   "metadata": {},
   "outputs": [],
   "source": [
    "#export \n",
    "from src.userTable import UserTable\n",
    "from awsSchema.apigateway import Response, Event\n",
    "from copy import deepcopy\n",
    "from beartype import beartype\n",
    "from uuid import uuid4\n",
    "from src.saltHashPassword import hash_password, check_password\n",
    "from dataclasses import dataclass\n",
    "from dataclasses_json import dataclass_json\n",
    "from time import time"
   ]
  },
  {
   "cell_type": "code",
   "execution_count": null,
   "metadata": {},
   "outputs": [
    {
     "data": {
      "text/plain": [
       "'f6055b9acd229f575c12a17eb31dd9e22cfbd5f1ffa60c9f1190b9d44549697d:162e28162b6a4b9e8b27b98f7a771801'"
      ]
     },
     "execution_count": null,
     "metadata": {},
     "output_type": "execute_result"
    }
   ],
   "source": [
    "#check whether hash password is working here\n",
    "examplePassword1 = '123'\n",
    "exampleHashedPassword1 = hash_password(examplePassword1)\n",
    "exampleHashedPassword1"
   ]
  },
  {
   "cell_type": "markdown",
   "metadata": {},
   "source": [
    "## User Input Class"
   ]
  },
  {
   "cell_type": "code",
   "execution_count": null,
   "metadata": {},
   "outputs": [],
   "source": [
    "#export \n",
    "@dataclass_json\n",
    "@dataclass\n",
    "class UserInput:\n",
    "    username: str\n",
    "    password: str\n",
    "    \n",
    "    @property\n",
    "    def passwordHash(self):\n",
    "        return hash_password(self.password)\n",
    "    \n",
    "    def saveTable(self):\n",
    "        passwordHashed = self.passwordHash\n",
    "        userTable = UserTable(\n",
    "                userId = str(uuid4()),\n",
    "                username = self.username,\n",
    "                date = time(),\n",
    "                passwordHash = passwordHashed\n",
    "            )\n",
    "        userTable.save()\n",
    "        "
   ]
  },
  {
   "cell_type": "code",
   "execution_count": null,
   "metadata": {},
   "outputs": [
    {
     "data": {
      "text/plain": [
       "UserInput(username='DelG', password='123')"
      ]
     },
     "execution_count": null,
     "metadata": {},
     "output_type": "execute_result"
    }
   ],
   "source": [
    "example = UserInput.from_dict({'username': 'DelG', 'password': '123'})\n",
    "example"
   ]
  },
  {
   "cell_type": "markdown",
   "metadata": {},
   "source": [
    "## Main Lambda Handler"
   ]
  },
  {
   "cell_type": "code",
   "execution_count": null,
   "metadata": {},
   "outputs": [],
   "source": [
    "#export \n",
    "class H:\n",
    "    class ParseInputError(Exception): pass\n",
    "    class SavingError(Exception): pass\n",
    "    @classmethod\n",
    "    @beartype\n",
    "    def parseInput(cls, event:dict)->UserInput:\n",
    "        try:\n",
    "            user = Event.parseDataClass(UserInput, deepcopy(event))\n",
    "            return user\n",
    "        except Exception as e:\n",
    "            raise cls.ParseInputError(e)\n",
    "    \n",
    "    @classmethod\n",
    "    @beartype\n",
    "    def saveUserMethod(cls, user:UserInput)->bool:\n",
    "        try:\n",
    "            user.saveTable()\n",
    "            return True\n",
    "        except Exception as e:\n",
    "            raise cls.SavingError(e)\n",
    "    \n",
    "        "
   ]
  },
  {
   "cell_type": "code",
   "execution_count": null,
   "metadata": {},
   "outputs": [],
   "source": [
    "#export\n",
    "def signUp(event, *args):\n",
    "    try:\n",
    "        user = H.parseInput(event)\n",
    "        print(user.username)\n",
    "        H.saveUserMethod(user)\n",
    "        return Response.returnSuccess()\n",
    "    except H.SavingError as e:\n",
    "        return Response.returnError(f'failed saving user {e}')\n",
    "    except Exception as e:\n",
    "        return Response.returnError(f' unknown error {e}')\n",
    "    "
   ]
  },
  {
   "cell_type": "code",
   "execution_count": null,
   "metadata": {},
   "outputs": [
    {
     "name": "stdout",
     "output_type": "stream",
     "text": [
      "Delgg\n"
     ]
    },
    {
     "data": {
      "text/plain": [
       "{'body': '{}',\n",
       " 'statusCode': 200,\n",
       " 'headers': {'Access-Control-Allow-Headers': '*',\n",
       "  'Access-Control-Allow-Origin': '*',\n",
       "  'Access-Control-Allow-Methods': '*'}}"
      ]
     },
     "execution_count": null,
     "metadata": {},
     "output_type": "execute_result"
    }
   ],
   "source": [
    "input_ = {'username': 'Delgg', 'password': '1276'}\n",
    "event = Event.getInput(body = input_)\n",
    "signUp(event)"
   ]
  },
  {
   "cell_type": "code",
   "execution_count": null,
   "metadata": {},
   "outputs": [
    {
     "data": {
      "text/plain": [
       "1658677547.060287"
      ]
     },
     "execution_count": null,
     "metadata": {},
     "output_type": "execute_result"
    }
   ],
   "source": [
    "epoch = time()\n",
    "epoch"
   ]
  },
  {
   "cell_type": "code",
   "execution_count": null,
   "metadata": {},
   "outputs": [],
   "source": []
  }
 ],
 "metadata": {
  "kernelspec": {
   "display_name": "python38",
   "language": "python",
   "name": "python38"
  }
 },
 "nbformat": 4,
 "nbformat_minor": 4
}
