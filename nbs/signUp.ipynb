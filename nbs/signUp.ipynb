{
 "cells": [
  {
   "cell_type": "code",
   "execution_count": null,
   "metadata": {},
   "outputs": [],
   "source": [
    "# default_exp signUp"
   ]
  },
  {
   "cell_type": "markdown",
   "metadata": {},
   "source": [
    "# SignUp\n",
    "\n",
    "> Interface to sign up user"
   ]
  },
  {
   "cell_type": "code",
   "execution_count": 2,
   "metadata": {},
   "outputs": [],
   "source": [
    "#hide\n",
    "from nbdev.showdoc import *\n",
    "import src.setEnv "
   ]
  },
  {
   "cell_type": "code",
   "execution_count": 13,
   "metadata": {},
   "outputs": [],
   "source": [
    "#export \n",
    "from src.userTable import UserTable\n",
    "from awsSchema.apigateway import Response, Event\n",
    "from copy import deepcopy\n",
    "from beartype import beartype\n",
    "from uuid import uuid4\n",
    "from src.saltHashPassword import hash_password, check_password\n",
    "from dataclasses import dataclass\n",
    "from dataclasses_json import dataclass_json\n",
    "from time import time\n",
    "import json"
   ]
  },
  {
   "cell_type": "code",
   "execution_count": 4,
   "metadata": {},
   "outputs": [
    {
     "data": {
      "text/plain": [
       "'6110775ef853857efe6074bb0aee9ae9df230d556cbd235012f5fb0ec4eb55c4:020b227ca5ea415990b49f409415ee73'"
      ]
     },
     "execution_count": 4,
     "metadata": {},
     "output_type": "execute_result"
    }
   ],
   "source": [
    "#check whether hash password is working here\n",
    "examplePassword1 = '123'\n",
    "exampleHashedPassword1 = hash_password(examplePassword1)\n",
    "exampleHashedPassword1"
   ]
  },
  {
   "cell_type": "markdown",
   "metadata": {},
   "source": [
    "## User Input Class"
   ]
  },
  {
   "cell_type": "code",
   "execution_count": 5,
   "metadata": {},
   "outputs": [],
   "source": [
    "#export \n",
    "@dataclass_json\n",
    "@dataclass\n",
    "class UserInput:\n",
    "    username: str\n",
    "    password: str\n",
    "    \n",
    "    @property\n",
    "    def passwordHash(self):\n",
    "        return hash_password(self.password)\n",
    "    \n",
    "    def saveTable(self):\n",
    "        passwordHashed = self.passwordHash\n",
    "        userTable = UserTable(\n",
    "                userId = str(uuid4()),\n",
    "                username = self.username,\n",
    "                date = time(),\n",
    "                passwordHash = passwordHashed\n",
    "            )\n",
    "        userTable.save()\n",
    "        "
   ]
  },
  {
   "cell_type": "code",
   "execution_count": 6,
   "metadata": {},
   "outputs": [
    {
     "data": {
      "text/plain": [
       "UserInput(username='DelG', password='123')"
      ]
     },
     "execution_count": 6,
     "metadata": {},
     "output_type": "execute_result"
    }
   ],
   "source": [
    "example = UserInput.from_dict({'username': 'DelG', 'password': '123'})\n",
    "example"
   ]
  },
  {
   "cell_type": "markdown",
   "metadata": {},
   "source": [
    "## Main Lambda Handler"
   ]
  },
  {
   "cell_type": "code",
   "execution_count": 7,
   "metadata": {},
   "outputs": [],
   "source": [
    "#export \n",
    "class H:\n",
    "    class ParseInputError(Exception): pass\n",
    "    class SavingError(Exception): pass\n",
    "    @classmethod\n",
    "    @beartype\n",
    "    def parseInput(cls, event:dict)->UserInput:\n",
    "        try:\n",
    "            user = Event.parseDataClass(UserInput, deepcopy(event))\n",
    "            return user\n",
    "        except Exception as e:\n",
    "            raise cls.ParseInputError(e)\n",
    "    \n",
    "    @classmethod\n",
    "    @beartype\n",
    "    def saveUserMethod(cls, user:UserInput)->bool:\n",
    "        try:\n",
    "            user.saveTable()\n",
    "            return True\n",
    "        except Exception as e:\n",
    "            raise cls.SavingError(e)\n",
    "    \n",
    "        "
   ]
  },
  {
   "cell_type": "code",
   "execution_count": 8,
   "metadata": {},
   "outputs": [],
   "source": [
    "#export\n",
    "def signUp(event, *args):\n",
    "    try:\n",
    "        user = H.parseInput(event)\n",
    "        H.saveUserMethod(user)\n",
    "        return Response.returnSuccess()\n",
    "    except H.SavingError as e:\n",
    "        return Response.returnError(f'failed saving user {e}')\n",
    "    except Exception as e:\n",
    "        return Response.returnError(f' unknown error {e}')\n",
    "    "
   ]
  },
  {
   "cell_type": "code",
   "execution_count": 9,
   "metadata": {},
   "outputs": [
    {
     "name": "stdout",
     "output_type": "stream",
     "text": [
      "Delgg\n"
     ]
    },
    {
     "data": {
      "text/plain": [
       "{'body': '{}',\n",
       " 'statusCode': 200,\n",
       " 'headers': {'Access-Control-Allow-Headers': '*',\n",
       "  'Access-Control-Allow-Origin': '*',\n",
       "  'Access-Control-Allow-Methods': '*'}}"
      ]
     },
     "execution_count": 9,
     "metadata": {},
     "output_type": "execute_result"
    }
   ],
   "source": [
    "input_ = {'username': 'Delgg', 'password': '1276'}\n",
    "event = Event.getInput(body = input_)\n",
    "signUp(event)"
   ]
  },
  {
   "cell_type": "code",
   "execution_count": 10,
   "metadata": {},
   "outputs": [
    {
     "data": {
      "text/plain": [
       "1660574887.723819"
      ]
     },
     "execution_count": 10,
     "metadata": {},
     "output_type": "execute_result"
    }
   ],
   "source": [
    "epoch = time()\n",
    "epoch"
   ]
  },
  {
   "cell_type": "code",
   "execution_count": 14,
   "metadata": {},
   "outputs": [
    {
     "data": {
      "text/plain": [
       "'{\"body\": \"{\\\\\"username\\\\\":\\\\\"DelG196\\\\\",\\\\\"password\\\\\":\\\\\"12345\\\\\"}\", \"httpMethod\": null, \"multiValueHeaders\": null, \"multiValueQueryStringParameters\": null, \"path\": null, \"pathParameters\": null, \"queryStringParameters\": {}, \"requestContext\": null, \"headers\": {}, \"statusCode\": 200, \"isBase64Encoded\": false}'"
      ]
     },
     "execution_count": 14,
     "metadata": {},
     "output_type": "execute_result"
    }
   ],
   "source": [
    "a = Event.getInput({'username': 'DelG196', 'password': '12345'})\n",
    "json.dumps(a)"
   ]
  },
  {
   "cell_type": "code",
   "execution_count": 23,
   "metadata": {},
   "outputs": [
    {
     "name": "stdout",
     "output_type": "stream",
     "text": [
      "true\n"
     ]
    }
   ],
   "source": [
    "a = 'very interesting'\n",
    "if a:\n",
    "    print('true')\n",
    "else:\n",
    "    print('false')"
   ]
  },
  {
   "cell_type": "code",
   "execution_count": null,
   "metadata": {},
   "outputs": [],
   "source": []
  }
 ],
 "metadata": {
  "kernelspec": {
   "display_name": "python38",
   "language": "python",
   "name": "python38"
  },
  "language_info": {
   "codemirror_mode": {
    "name": "ipython",
    "version": 3
   },
   "file_extension": ".py",
   "mimetype": "text/x-python",
   "name": "python",
   "nbconvert_exporter": "python",
   "pygments_lexer": "ipython3",
   "version": "3.8.8"
  }
 },
 "nbformat": 4,
 "nbformat_minor": 4
}
