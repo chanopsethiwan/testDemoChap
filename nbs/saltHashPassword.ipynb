{
 "cells": [
  {
   "cell_type": "code",
   "execution_count": null,
   "id": "971ab70e-c64b-406d-a0f3-c01e5a4705f6",
   "metadata": {},
   "outputs": [],
   "source": [
    "# default_exp saltHashPassword"
   ]
  },
  {
   "cell_type": "markdown",
   "id": "b9bc5a83-04b1-4191-9f08-bd0bc2b54f6b",
   "metadata": {},
   "source": [
    "# Salt Hash Password\n",
    "\n",
    "> Salt Hash the inputted password to be stored in this form to make the password more secured"
   ]
  },
  {
   "cell_type": "code",
   "execution_count": 1,
   "id": "12b60be0-2d01-4f85-b51d-4651cf14fe97",
   "metadata": {},
   "outputs": [],
   "source": [
    "#export\n",
    "import uuid\n",
    "import hashlib"
   ]
  },
  {
   "cell_type": "code",
   "execution_count": 2,
   "id": "080e0480-c91f-45d9-8470-1ffb3385d552",
   "metadata": {},
   "outputs": [],
   "source": [
    "#export\n",
    "def hash_password(password):\n",
    "    # uuid is used to generate a random number\n",
    "    salt = uuid.uuid4().hex\n",
    "    return hashlib.sha256(salt.encode() + password.encode()).hexdigest() + ':' + salt\n",
    "    "
   ]
  },
  {
   "cell_type": "code",
   "execution_count": 3,
   "id": "884b249e-7e4d-48b4-8b94-8f0963792354",
   "metadata": {},
   "outputs": [],
   "source": [
    "#export\n",
    "def check_password(hashed_password, user_password):\n",
    "    password, salt = hashed_password.split(':')\n",
    "    return password == hashlib.sha256(salt.encode() + user_password.encode()).hexdigest()"
   ]
  },
  {
   "cell_type": "code",
   "execution_count": 9,
   "id": "6f390beb-31b1-496e-b45c-5cacf5022020",
   "metadata": {},
   "outputs": [
    {
     "name": "stdout",
     "output_type": "stream",
     "text": [
      "True\n",
      "False\n"
     ]
    }
   ],
   "source": [
    "#testing hash_password and check_password\n",
    "password = '123'\n",
    "hashedPassword = hash_password(password)\n",
    "hashedPassword\n",
    "print(check_password(hashedPassword, '123'))\n",
    "print(check_password(hashedPassword, '1234'))"
   ]
  },
  {
   "cell_type": "code",
   "execution_count": 16,
   "id": "a1ca0bcd-579a-4ebb-a467-e4e676da02da",
   "metadata": {},
   "outputs": [
    {
     "name": "stdout",
     "output_type": "stream",
     "text": [
      "c3f72e3bc187ca3d719a689036919b3de3664f0f98cd4de71313680a667c8a84:b837376df1e2441d84a13d3d64a7b8e8\n",
      "True\n"
     ]
    }
   ],
   "source": [
    "password = '12765'\n",
    "hashedPassword = hash_password('12765')\n",
    "print(hashedPassword)\n",
    "print(check_password(hashedPassword, '12765'))"
   ]
  },
  {
   "cell_type": "code",
   "execution_count": null,
   "id": "a1e0635b-8da8-446c-ba49-55f1bc958bc4",
   "metadata": {},
   "outputs": [],
   "source": []
  }
 ],
 "metadata": {
  "kernelspec": {
   "display_name": "python38",
   "language": "python",
   "name": "python38"
  },
  "language_info": {
   "codemirror_mode": {
    "name": "ipython",
    "version": 3
   },
   "file_extension": ".py",
   "mimetype": "text/x-python",
   "name": "python",
   "nbconvert_exporter": "python",
   "pygments_lexer": "ipython3",
   "version": "3.8.8"
  }
 },
 "nbformat": 4,
 "nbformat_minor": 5
}
