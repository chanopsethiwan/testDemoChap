{
 "cells": [
  {
   "cell_type": "code",
   "execution_count": null,
   "id": "1985d9b0-fe2b-4a37-b7c5-3aaf4e0a0d0e",
   "metadata": {},
   "outputs": [],
   "source": [
    "# default_exp signIn"
   ]
  },
  {
   "cell_type": "markdown",
   "id": "94ceb1ee-cffd-4fad-9903-da06b16e310c",
   "metadata": {},
   "source": [
    "# SignIn\n",
    "\n",
    "> Log into account"
   ]
  },
  {
   "cell_type": "code",
   "execution_count": null,
   "id": "e1b8ec00-f2d9-4132-a181-cb5b0d66e91d",
   "metadata": {},
   "outputs": [],
   "source": [
    "#hide\n",
    "import src.setEnv \n",
    "import requests"
   ]
  },
  {
   "cell_type": "code",
   "execution_count": null,
   "id": "cef086cf-d7fd-4dbe-94af-00354ec5b127",
   "metadata": {},
   "outputs": [],
   "source": [
    "#export \n",
    "from src.userTable import UserTable\n",
    "from awsSchema.apigateway import Response, Event\n",
    "from copy import deepcopy\n",
    "from src.saltHashPassword import hash_password, check_password\n",
    "from dataclasses import dataclass\n",
    "from dataclasses_json import dataclass_json\n",
    "from beartype import beartype"
   ]
  },
  {
   "cell_type": "markdown",
   "id": "4b519a17-acef-4d5f-a51c-08ae7fe635f1",
   "metadata": {},
   "source": [
    "## Sign In Input Class"
   ]
  },
  {
   "cell_type": "code",
   "execution_count": null,
   "id": "c58c66ff-5d73-41df-8904-6bc4a47e24c4",
   "metadata": {},
   "outputs": [],
   "source": [
    "#export \n",
    "@dataclass_json\n",
    "@dataclass\n",
    "class SignInInput:\n",
    "    username: str\n",
    "    password: str\n",
    "    \n",
    "    def checkPassword(self):\n",
    "        for item in UserTable.username_index.query(self.username):\n",
    "            return check_password(item.passwordHash, self.password)"
   ]
  },
  {
   "cell_type": "markdown",
   "id": "06c14961-34c4-4650-ac93-97593e168da1",
   "metadata": {},
   "source": [
    "## Main Lambda Handler"
   ]
  },
  {
   "cell_type": "code",
   "execution_count": null,
   "id": "590fb05a-fca5-46fb-ab3c-96ae12419f18",
   "metadata": {},
   "outputs": [],
   "source": [
    "#export\n",
    "class H:\n",
    "    class ParseInputError(Exception): pass\n",
    "    class CountUsernameError(Exception): pass\n",
    "    class InvalidPasswordError(Exception): pass\n",
    "    class PasswordCheckError(Exception): pass\n",
    "    class UsernameDoesNotExistError(Exception): pass\n",
    "    \n",
    "    @classmethod\n",
    "    @beartype\n",
    "    def parseInput(cls, event: dict)->SignInInput:\n",
    "        try:\n",
    "            params = Event.parseQuery(event)\n",
    "            user = SignInInput.from_dict(params)\n",
    "            return user\n",
    "        except Exception as e:\n",
    "            raise cls.ParseInputError(e)\n",
    "    \n",
    "    @classmethod\n",
    "    @beartype\n",
    "    def checkLoginDetails(cls, user:SignInInput):\n",
    "        try:\n",
    "            count = UserTable.username_index.count(user.username)\n",
    "        except Exception as e:\n",
    "            raise cls.CountUsernameError(e)\n",
    "        if count:\n",
    "            try:\n",
    "                passwordChecked = user.checkPassword()\n",
    "            except Exception as e:\n",
    "                raise cls.PasswordCheckError(e)\n",
    "            if passwordChecked:\n",
    "                return True\n",
    "            else:\n",
    "                raise cls.InvalidPasswordError\n",
    "        else: \n",
    "            raise cls.UsernameDoesNotExistError"
   ]
  },
  {
   "cell_type": "code",
   "execution_count": null,
   "id": "02898e26-9903-4db1-91dc-4fc6e2e4cbe5",
   "metadata": {},
   "outputs": [],
   "source": [
    "#export\n",
    "def signIn(event, *args):\n",
    "    try:\n",
    "        user = H.parseInput(event)\n",
    "        H.checkLoginDetails(user)\n",
    "        return Response.returnSuccess()\n",
    "    except H.ParseInputError as e:\n",
    "        return Response.returnError(f'failed to parse input {e}')\n",
    "    except H.CountUsernameError as e:\n",
    "        return Response.returnError(f'failed to count number of user with specified username {e}')\n",
    "    except H.InvalidPasswordError as e:\n",
    "        return Response.returnError(f'incorrect password {e}')\n",
    "    except H.PasswordCheckError as e:\n",
    "        return Response.returnError(f'failed to check username and password {e}')\n",
    "    except H.UsernameDoesNotExistError as e:\n",
    "        return Response.returnError(f'username does not exist or is incorrect {e}')\n",
    "    except Exception as e:\n",
    "        return Response.returnError(f' unknown error {e}')"
   ]
  },
  {
   "cell_type": "markdown",
   "id": "3045a675-8f29-4c91-b68e-0002438e1540",
   "metadata": {},
   "source": [
    "## Tests"
   ]
  },
  {
   "cell_type": "markdown",
   "id": "161ddc16-dc40-48a9-98ab-05be72eeadd7",
   "metadata": {},
   "source": [
    "### Success "
   ]
  },
  {
   "cell_type": "code",
   "execution_count": null,
   "id": "ac067424-a882-4ad3-8ae2-ce4bf5c1a1e8",
   "metadata": {},
   "outputs": [
    {
     "data": {
      "text/plain": [
       "{'body': '{\"error\":\"failed to parse input \\'username\\'\"}',\n",
       " 'statusCode': 400,\n",
       " 'headers': {'Access-Control-Allow-Headers': '*',\n",
       "  'Access-Control-Allow-Origin': '*',\n",
       "  'Access-Control-Allow-Methods': '*'}}"
      ]
     },
     "execution_count": null,
     "metadata": {},
     "output_type": "execute_result"
    }
   ],
   "source": [
    "input_ = {'username': 'Delgg4', 'password': '12765'}\n",
    "event = Event.getInput(body = input_)\n",
    "signIn(event)"
   ]
  },
  {
   "cell_type": "markdown",
   "id": "1d62b57d-9d7f-450e-b9e8-5d7e2db894d6",
   "metadata": {},
   "source": [
    "### Failure"
   ]
  },
  {
   "cell_type": "markdown",
   "id": "07b45d0f-b48a-4ff0-bb4f-3c52ffcda1e5",
   "metadata": {},
   "source": [
    "#### Invalid Password"
   ]
  },
  {
   "cell_type": "code",
   "execution_count": null,
   "id": "1708f7a7-3252-4938-a604-f4d0a9cd67e4",
   "metadata": {},
   "outputs": [
    {
     "data": {
      "text/plain": [
       "{'body': '{\"error\":\"incorrect password \"}',\n",
       " 'statusCode': 400,\n",
       " 'headers': {'Access-Control-Allow-Headers': '*',\n",
       "  'Access-Control-Allow-Origin': '*',\n",
       "  'Access-Control-Allow-Methods': '*'}}"
      ]
     },
     "execution_count": null,
     "metadata": {},
     "output_type": "execute_result"
    }
   ],
   "source": [
    "input_1 = {'username': 'Delgg4', 'password': '1276'}\n",
    "event = Event.getInput(queryStringParameters = input_1)\n",
    "signIn(event)"
   ]
  },
  {
   "cell_type": "markdown",
   "id": "70af414f-21e0-413e-995d-4cfd7f9319b2",
   "metadata": {},
   "source": [
    "#### Invalid Username"
   ]
  },
  {
   "cell_type": "code",
   "execution_count": null,
   "id": "22cf216b-6053-4da0-9a9a-c62318703ae4",
   "metadata": {},
   "outputs": [
    {
     "data": {
      "text/plain": [
       "{'body': '{\"error\":\"incorrect password \"}',\n",
       " 'statusCode': 400,\n",
       " 'headers': {'Access-Control-Allow-Headers': '*',\n",
       "  'Access-Control-Allow-Origin': '*',\n",
       "  'Access-Control-Allow-Methods': '*'}}"
      ]
     },
     "execution_count": null,
     "metadata": {},
     "output_type": "execute_result"
    }
   ],
   "source": [
    "input_1 = {'username': 'Delgg4', 'password': '1274'}\n",
    "event = Event.getInput(queryStringParameters = input_1)\n",
    "signIn(event)"
   ]
  },
  {
   "cell_type": "code",
   "execution_count": null,
   "id": "07dd917a-801b-46fd-ab17-a2f8dbdc0a18",
   "metadata": {},
   "outputs": [
    {
     "name": "stdout",
     "output_type": "stream",
     "text": [
      "{\"error\":\"failed to parse input 'body'\"}\n",
      "400\n"
     ]
    }
   ],
   "source": [
    "url = 'https://3d4v07deqh.execute-api.ap-southeast-1.amazonaws.com/Prod/signin'\n",
    "url2 = 'https://sje65cwtekbnrn7w3l66djb2fi0lvmkt.lambda-url.ap-southeast-1.on.aws'\n",
    "params = {'username': 'Delgg4', 'password': '12765'}\n",
    "# headers = {'User-Agent': 'Mozilla/5.0 (Windows NT 6.1; WOW64) AppleWebKit/537.36 (KHTML, like Gecko) Chrome/56.0.2924.76 Safari/537.36', \"Upgrade-Insecure-Requests\": \"1\",\"DNT\": \"1\",\"Accept\": \"text/html,application/xhtml+xml,application/xml;q=0.9,*/*;q=0.8\",\"Accept-Language\": \"en-US,en;q=0.5\",\"Accept-Encoding\": \"gzip, deflate\"}\n",
    "paramsGetInput = Event.getInput(body = params)\n",
    "r = requests.get(url2, params=params)\n",
    "print(r.text)\n",
    "print(r.status_code)"
   ]
  },
  {
   "cell_type": "code",
   "execution_count": null,
   "id": "d757bfd6-3b0e-45c9-a6b4-02790a44a3c7",
   "metadata": {},
   "outputs": [
    {
     "name": "stdout",
     "output_type": "stream",
     "text": [
      "15fdac0b-6f83-4726-a2b6-ac825ff6e57e\n"
     ]
    }
   ],
   "source": [
    "item = UserTable.username_index.query('Delg45678')\n",
    "for i in item:\n",
    "    \n",
    "    passwordHash = i.userId\n",
    "    print(passwordHash)\n",
    "    "
   ]
  },
  {
   "cell_type": "code",
   "execution_count": null,
   "id": "0d20f2a5-622c-4376-960e-db18a392cb0a",
   "metadata": {},
   "outputs": [],
   "source": []
  }
 ],
 "metadata": {
  "kernelspec": {
   "display_name": "python38",
   "language": "python",
   "name": "python38"
  }
 },
 "nbformat": 4,
 "nbformat_minor": 5
}
