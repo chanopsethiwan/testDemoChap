{
 "cells": [
  {
   "cell_type": "code",
   "execution_count": null,
   "id": "1985d9b0-fe2b-4a37-b7c5-3aaf4e0a0d0e",
   "metadata": {},
   "outputs": [],
   "source": [
    "# default_exp getUser"
   ]
  },
  {
   "cell_type": "markdown",
   "id": "94ceb1ee-cffd-4fad-9903-da06b16e310c",
   "metadata": {},
   "source": [
    "# SignIn\n",
    "\n",
    "> Log into account"
   ]
  },
  {
   "cell_type": "code",
   "execution_count": null,
   "id": "e1b8ec00-f2d9-4132-a181-cb5b0d66e91d",
   "metadata": {},
   "outputs": [],
   "source": [
    "#hide\n",
    "import src.setEnv "
   ]
  },
  {
   "cell_type": "code",
   "execution_count": null,
   "id": "cef086cf-d7fd-4dbe-94af-00354ec5b127",
   "metadata": {},
   "outputs": [],
   "source": [
    "#export \n",
    "from src.userTable import UserTable\n",
    "from awsSchema.apigateway import Response, Event\n",
    "from copy import deepcopy\n",
    "from src.saltHashPassword import hash_password, check_password\n",
    "from dataclasses import dataclass\n",
    "from dataclasses_json import dataclass_json\n",
    "from beartype import beartype"
   ]
  },
  {
   "cell_type": "markdown",
   "id": "4b519a17-acef-4d5f-a51c-08ae7fe635f1",
   "metadata": {},
   "source": [
    "## Sign In Input Class"
   ]
  },
  {
   "cell_type": "code",
   "execution_count": null,
   "id": "c58c66ff-5d73-41df-8904-6bc4a47e24c4",
   "metadata": {},
   "outputs": [
    {
     "ename": "NameError",
     "evalue": "name 'dataclasses_json' is not defined",
     "output_type": "error",
     "traceback": [
      "\u001b[0;31m---------------------------------------------------------------------------\u001b[0m",
      "\u001b[0;31mNameError\u001b[0m                                 Traceback (most recent call last)",
      "Input \u001b[0;32mIn [2]\u001b[0m, in \u001b[0;36m<cell line: 2>\u001b[0;34m()\u001b[0m\n\u001b[1;32m      1\u001b[0m \u001b[38;5;66;03m#export \u001b[39;00m\n\u001b[0;32m----> 2\u001b[0m \u001b[38;5;129m@dataclasses_json\u001b[39m\n\u001b[1;32m      3\u001b[0m \u001b[38;5;129m@dataclasses\u001b[39m\n\u001b[1;32m      4\u001b[0m \u001b[38;5;28;01mclass\u001b[39;00m \u001b[38;5;21;01mSignInInput\u001b[39;00m:\n\u001b[1;32m      5\u001b[0m     username: \u001b[38;5;28mstr\u001b[39m\n\u001b[1;32m      6\u001b[0m     password: \u001b[38;5;28mstr\u001b[39m\n",
      "\u001b[0;31mNameError\u001b[0m: name 'dataclasses_json' is not defined"
     ]
    }
   ],
   "source": [
    "#export \n",
    "@dataclass_json\n",
    "@dataclass\n",
    "class SignInInput:\n",
    "    username: str\n",
    "    password: str\n",
    "    \n",
    "    @property\n",
    "    def passwordHash(self):\n",
    "        return hash_password(self.password)\n",
    "    \n",
    "    def checkPassword(self):\n",
    "        passwordHashed = self.passwordHash\n",
    "        "
   ]
  },
  {
   "cell_type": "markdown",
   "id": "06c14961-34c4-4650-ac93-97593e168da1",
   "metadata": {},
   "source": [
    "## Main Lambda Handler"
   ]
  },
  {
   "cell_type": "code",
   "execution_count": null,
   "id": "590fb05a-fca5-46fb-ab3c-96ae12419f18",
   "metadata": {},
   "outputs": [],
   "source": [
    "#export\n",
    "class H:\n",
    "    class ParseInputError(Exception): pass\n",
    "    @staticmethod\n",
    "    @beartype\n",
    "    def parseInput(event: dict)->SignInInput:\n",
    "        try:\n",
    "            user = Event.parseDataClass(SignInInput, deepcopy(event))\n",
    "            return user\n",
    "        except Exception as e:\n",
    "            raise ParseInputError(e)\n",
    "        \n",
    "    # def "
   ]
  },
  {
   "cell_type": "code",
   "execution_count": null,
   "id": "02898e26-9903-4db1-91dc-4fc6e2e4cbe5",
   "metadata": {},
   "outputs": [],
   "source": [
    "#export\n",
    "def signIn(event, *args):\n",
    "    # user = H.parseInput(event)\n",
    "    # userId = user.username\n",
    "    pass"
   ]
  }
 ],
 "metadata": {
  "kernelspec": {
   "display_name": "python38",
   "language": "python",
   "name": "python38"
  }
 },
 "nbformat": 4,
 "nbformat_minor": 5
}
