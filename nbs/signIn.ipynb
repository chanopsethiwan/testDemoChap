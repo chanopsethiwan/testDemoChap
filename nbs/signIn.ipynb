{
 "cells": [
  {
   "cell_type": "code",
   "execution_count": null,
   "id": "1985d9b0-fe2b-4a37-b7c5-3aaf4e0a0d0e",
   "metadata": {},
   "outputs": [],
   "source": [
    "# default_exp signIn"
   ]
  },
  {
   "cell_type": "markdown",
   "id": "94ceb1ee-cffd-4fad-9903-da06b16e310c",
   "metadata": {},
   "source": [
    "# SignIn\n",
    "\n",
    "> Log into account"
   ]
  },
  {
   "cell_type": "code",
   "execution_count": 1,
   "id": "e1b8ec00-f2d9-4132-a181-cb5b0d66e91d",
   "metadata": {},
   "outputs": [],
   "source": [
    "#hide\n",
    "import src.setEnv "
   ]
  },
  {
   "cell_type": "code",
   "execution_count": 2,
   "id": "cef086cf-d7fd-4dbe-94af-00354ec5b127",
   "metadata": {},
   "outputs": [],
   "source": [
    "#export \n",
    "from src.userTable import UserTable\n",
    "from awsSchema.apigateway import Response, Event\n",
    "from copy import deepcopy\n",
    "from src.saltHashPassword import hash_password, check_password\n",
    "from dataclasses import dataclass\n",
    "from dataclasses_json import dataclass_json\n",
    "from beartype import beartype"
   ]
  },
  {
   "cell_type": "markdown",
   "id": "4b519a17-acef-4d5f-a51c-08ae7fe635f1",
   "metadata": {},
   "source": [
    "## Sign In Input Class"
   ]
  },
  {
   "cell_type": "code",
   "execution_count": 37,
   "id": "c58c66ff-5d73-41df-8904-6bc4a47e24c4",
   "metadata": {},
   "outputs": [],
   "source": [
    "#export \n",
    "@dataclass_json\n",
    "@dataclass\n",
    "class SignInInput:\n",
    "    username: str\n",
    "    password: str\n",
    "    \n",
    "    def countUsername(self):\n",
    "        count = UserTable.username_index.count(self.username)\n",
    "        if count:\n",
    "            return True\n",
    "        else:\n",
    "            return False\n",
    "    \n",
    "    def checkPassword(self):\n",
    "        for item in UserTable.username_index.query(self.username):\n",
    "            return check_password(item.passwordHash, self.password)"
   ]
  },
  {
   "cell_type": "markdown",
   "id": "06c14961-34c4-4650-ac93-97593e168da1",
   "metadata": {},
   "source": [
    "## Main Lambda Handler"
   ]
  },
  {
   "cell_type": "code",
   "execution_count": 41,
   "id": "590fb05a-fca5-46fb-ab3c-96ae12419f18",
   "metadata": {},
   "outputs": [],
   "source": [
    "#export\n",
    "class H:\n",
    "    class ParseInputError(Exception): pass\n",
    "    class CountUsernameError(Exception): pass\n",
    "    class InvalidUsernameError(Exception): pass\n",
    "    class PasswordCheckError(Exception): pass\n",
    "    @classmethod\n",
    "    @beartype\n",
    "    def parseInput(cls, event: dict)->SignInInput:\n",
    "        try:\n",
    "            user = Event.parseDataClass(SignInInput, deepcopy(event))\n",
    "            return user\n",
    "        except Exception as e:\n",
    "            raise cls.ParseInputError(e)\n",
    "    \n",
    "    @classmethod\n",
    "    @beartype\n",
    "    def checkLoginDetails(cls, user:SignInInput):\n",
    "        try:\n",
    "            count = user.countUsername\n",
    "        except Exception as e:\n",
    "            raise cls.CountUsernameError(e)\n",
    "        if count:\n",
    "            try:\n",
    "                passwordChecked = user.checkPassword()\n",
    "            except Exception as e:\n",
    "                raise cls.PasswordCheckError(e)\n",
    "            if passwordChecked:\n",
    "                return True\n",
    "            else:\n",
    "                raise cls.InvalidUsernameError"
   ]
  },
  {
   "cell_type": "code",
   "execution_count": 42,
   "id": "02898e26-9903-4db1-91dc-4fc6e2e4cbe5",
   "metadata": {},
   "outputs": [],
   "source": [
    "#export\n",
    "def signIn(event, *args):\n",
    "    try:\n",
    "        user = H.parseInput(event)\n",
    "        H.checkLoginDetails(user)\n",
    "        return Response.returnSuccess()\n",
    "    except H.ParseInputError as e:\n",
    "        return Response.returnError(f'failed to parse input {e}')\n",
    "    except H.CountUsernameError as e:\n",
    "        return Response.returnError(f'failed to count number of user with specified username {e}')\n",
    "    except H.InvalidUsernameError as e:\n",
    "        return Response.returnError(f'incorrect username or password {e}')\n",
    "    except H.PasswordCheckError as e:\n",
    "        return Response.returnError(f'failed to check username and password {e}')\n",
    "    except Exception as e:\n",
    "        return Response.returnError(f' unknown error {e}')"
   ]
  },
  {
   "cell_type": "code",
   "execution_count": 43,
   "id": "ac067424-a882-4ad3-8ae2-ce4bf5c1a1e8",
   "metadata": {},
   "outputs": [
    {
     "data": {
      "text/plain": [
       "{'body': '{}',\n",
       " 'statusCode': 200,\n",
       " 'headers': {'Access-Control-Allow-Headers': '*',\n",
       "  'Access-Control-Allow-Origin': '*',\n",
       "  'Access-Control-Allow-Methods': '*'}}"
      ]
     },
     "execution_count": 43,
     "metadata": {},
     "output_type": "execute_result"
    }
   ],
   "source": [
    "input_ = {'username': 'Delgg4', 'password': '12765'}\n",
    "event = Event.getInput(body = input_)\n",
    "signIn(event)"
   ]
  },
  {
   "cell_type": "code",
   "execution_count": null,
   "id": "63436f07-71fb-413e-9643-62e5e8412ea2",
   "metadata": {},
   "outputs": [],
   "source": []
  },
  {
   "cell_type": "code",
   "execution_count": null,
   "id": "1e63509a-1d12-4da9-9619-1a3131ebf22f",
   "metadata": {},
   "outputs": [],
   "source": []
  }
 ],
 "metadata": {
  "kernelspec": {
   "display_name": "python38",
   "language": "python",
   "name": "python38"
  },
  "language_info": {
   "codemirror_mode": {
    "name": "ipython",
    "version": 3
   },
   "file_extension": ".py",
   "mimetype": "text/x-python",
   "name": "python",
   "nbconvert_exporter": "python",
   "pygments_lexer": "ipython3",
   "version": "3.8.8"
  }
 },
 "nbformat": 4,
 "nbformat_minor": 5
}
