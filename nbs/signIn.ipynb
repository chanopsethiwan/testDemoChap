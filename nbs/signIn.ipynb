{
 "cells": [
  {
   "cell_type": "code",
   "execution_count": null,
   "id": "1985d9b0-fe2b-4a37-b7c5-3aaf4e0a0d0e",
   "metadata": {},
   "outputs": [],
   "source": [
    "# default_exp getUser"
   ]
  },
  {
   "cell_type": "markdown",
   "id": "94ceb1ee-cffd-4fad-9903-da06b16e310c",
   "metadata": {},
   "source": [
    "# SignIn\n",
    "\n",
    "> Log into account"
   ]
  },
  {
   "cell_type": "code",
   "execution_count": null,
   "id": "cef086cf-d7fd-4dbe-94af-00354ec5b127",
   "metadata": {},
   "outputs": [],
   "source": [
    "#export \n",
    "from src.userTable import UserTable\n",
    "from awsSchema.apigateway import Response, Event\n",
    "from copy import deepcopy"
   ]
  },
  {
   "cell_type": "code",
   "execution_count": null,
   "id": "02898e26-9903-4db1-91dc-4fc6e2e4cbe5",
   "metadata": {},
   "outputs": [],
   "source": [
    "def signIn(event, *args):\n",
    "    userId = Event.parseQuery(deepcopy(event))['userId']\n",
    "    "
   ]
  }
 ],
 "metadata": {
  "kernelspec": {
   "display_name": "python38",
   "language": "python",
   "name": "python38"
  },
  "language_info": {
   "codemirror_mode": {
    "name": "ipython",
    "version": 3
   },
   "file_extension": ".py",
   "mimetype": "text/x-python",
   "name": "python",
   "nbconvert_exporter": "python",
   "pygments_lexer": "ipython3",
   "version": "3.8.8"
  }
 },
 "nbformat": 4,
 "nbformat_minor": 5
}
