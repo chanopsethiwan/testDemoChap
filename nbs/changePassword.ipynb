{
 "cells": [
  {
   "cell_type": "code",
   "execution_count": 1,
   "id": "9360cc22-2589-40c0-9d7b-cbccf87e41c8",
   "metadata": {},
   "outputs": [],
   "source": [
    "# default_exp changePassword"
   ]
  },
  {
   "cell_type": "markdown",
   "id": "d7e2b6b2-4d5a-43fc-8f4f-ee57f2ead105",
   "metadata": {},
   "source": [
    "## Change Password\n",
    "\n",
    "> Change password of this account"
   ]
  },
  {
   "cell_type": "code",
   "execution_count": 13,
   "id": "40039fee-e563-4557-b3b1-982d0defd5be",
   "metadata": {},
   "outputs": [],
   "source": [
    "#hide\n",
    "import src.setEnv \n",
    "import requests"
   ]
  },
  {
   "cell_type": "code",
   "execution_count": 3,
   "id": "2cb7cb3c-7c43-4dc5-af1b-8d1cda4385d6",
   "metadata": {},
   "outputs": [],
   "source": [
    "#export \n",
    "from src.userTable import UserTable\n",
    "from awsSchema.apigateway import Response, Event\n",
    "from copy import deepcopy\n",
    "from src.saltHashPassword import hash_password, check_password\n",
    "from dataclasses import dataclass\n",
    "from dataclasses_json import dataclass_json\n",
    "from beartype import beartype"
   ]
  },
  {
   "cell_type": "markdown",
   "id": "e66e2273-01de-40cb-b957-e95648a6c583",
   "metadata": {},
   "source": [
    "## Change Password Input Class"
   ]
  },
  {
   "cell_type": "code",
   "execution_count": 4,
   "id": "ab192712-1899-4b1e-9c3d-e23ecbdd73cf",
   "metadata": {},
   "outputs": [],
   "source": [
    "#export \n",
    "@dataclass_json\n",
    "@dataclass\n",
    "class ChangePasswordInput:\n",
    "    #change to username\n",
    "    # userId: str\n",
    "    username: str\n",
    "    oldPassword: str\n",
    "    newPassword: str\n",
    "    newPasswordRepeated: str\n",
    "    \n",
    "    @property\n",
    "    def passwordHash(self):\n",
    "        return hash_password(self.newPassword)\n",
    "    \n",
    "    def checkPassword(self):\n",
    "        for item in UserTable.username_index.query(self.username):\n",
    "            return check_password(item.passwordHash, self.oldPassword)\n",
    "        "
   ]
  },
  {
   "cell_type": "markdown",
   "id": "de07b8d1-d19a-428a-8d7f-f05b27851bb5",
   "metadata": {},
   "source": [
    "## Main Lambda Handler"
   ]
  },
  {
   "cell_type": "code",
   "execution_count": 5,
   "id": "d9f128c5-f1d1-4a52-b6bf-db6aa951f8ae",
   "metadata": {},
   "outputs": [],
   "source": [
    "#export\n",
    "class H:\n",
    "    class ParseInputError(Exception): pass\n",
    "    class PasswordCheckError(Exception): pass\n",
    "    class InvalidPasswordError(Exception): pass\n",
    "    class IncorrectRepeatedPasswordError(Exception): pass\n",
    "    class HashPasswordError(Exception): pass\n",
    "    class ChangePasswordError(Exception): pass\n",
    "    \n",
    "    @classmethod\n",
    "    @beartype\n",
    "    def parseInput(cls, event: dict)->ChangePasswordInput:\n",
    "        try:\n",
    "            user = Event.parseDataClass(ChangePasswordInput, deepcopy(event))\n",
    "            return user\n",
    "        except Exception as e:\n",
    "            raise cls.ParseInputError(e)\n",
    "    \n",
    "    @classmethod\n",
    "    @beartype\n",
    "    def changeToNewPassword(cls, user: ChangePasswordInput):\n",
    "        try:\n",
    "            passwordChecked = user.checkPassword()\n",
    "        except Exception as e:\n",
    "            raise cls.PasswordCheckError(e)\n",
    "        if passwordChecked:\n",
    "            pass\n",
    "        else:\n",
    "            raise cls.InvalidPasswordError\n",
    "        if user.newPassword == user.newPasswordRepeated:\n",
    "            pass\n",
    "        else:\n",
    "            raise cls.IncorrectRepeatedPasswordError()\n",
    "        try:\n",
    "            newPasswordHashed = hash_password(user.newPassword)\n",
    "        except Exception as e:\n",
    "            raise cls.HashPasswordError(e)\n",
    "        try:\n",
    "            usernameQuery = UserTable.username_index.query(user.username)\n",
    "            for i in usernameQuery:\n",
    "                userId = i.userId\n",
    "                oldItem = UserTable.get(userId)\n",
    "                oldItem.passwordHash = newPasswordHashed\n",
    "                oldItem.save()        \n",
    "        except Exception as e:\n",
    "            raise cls.ChangePasswordError(e)\n",
    "        return True"
   ]
  },
  {
   "cell_type": "code",
   "execution_count": 6,
   "id": "fa2cabb8-df7b-4127-a436-ede6144c1e75",
   "metadata": {},
   "outputs": [],
   "source": [
    "#export \n",
    "def changePassword(event, *args):\n",
    "    try:\n",
    "        user = H.parseInput(event)\n",
    "        H.changeToNewPassword(user)\n",
    "        return Response.returnSuccess()\n",
    "    except H.ParseInputError as e:\n",
    "        return Response.returnError(f'failed to parse input {e}')\n",
    "    except H.PasswordCheckError as e:\n",
    "        return Response.returnError(f'failed to check password {e}')\n",
    "    except H.InvalidPasswordError as e:\n",
    "        return Response.returnError(f'incorrect old password inputted {e}')\n",
    "    except H.IncorrectRepeatedPasswordError as e:\n",
    "        return Response.returnError(f'new password does not match repeated new password {e}')\n",
    "    except H.HashPasswordError as e:\n",
    "        return Response.returnError(f'failed to hash password {e}')\n",
    "    except H.ChangePasswordError as e:\n",
    "        return Response.returnError(f'unable to change password successfully {e}')\n",
    "    except Exception as e:\n",
    "        return Response.returnError(f' unknown error {e}')"
   ]
  },
  {
   "cell_type": "code",
   "execution_count": 20,
   "id": "ea234ede-0851-4b63-98ef-e07edc06e423",
   "metadata": {},
   "outputs": [
    {
     "data": {
      "text/plain": [
       "{'body': '{\"error\":\"incorrect old password inputted \"}',\n",
       " 'statusCode': 400,\n",
       " 'headers': {'Access-Control-Allow-Headers': '*',\n",
       "  'Access-Control-Allow-Origin': '*',\n",
       "  'Access-Control-Allow-Methods': '*'}}"
      ]
     },
     "execution_count": 20,
     "metadata": {},
     "output_type": "execute_result"
    }
   ],
   "source": [
    "input_ = {'username': 'Delg45678', 'oldPassword': '12765', 'newPassword': '12764', 'newPasswordRepeated':'12764'}\n",
    "event = Event.getInput(body = input_)\n",
    "changePassword(event)"
   ]
  },
  {
   "cell_type": "code",
   "execution_count": 19,
   "id": "8291f80f-8b05-4300-b7e7-12854e6a65fc",
   "metadata": {},
   "outputs": [
    {
     "name": "stdout",
     "output_type": "stream",
     "text": [
      "{\"error\":\"incorrect old password inputted \"}\n"
     ]
    }
   ],
   "source": [
    "url = 'https://3d4v07deqh.execute-api.ap-southeast-1.amazonaws.com/Prod/changepassword'\n",
    "body = {'username': 'Delg45678', 'oldPassword': '12765', 'newPassword': '12764', 'newPasswordRepeated': '12764'}\n",
    "r = requests.post(url, json=body)\n",
    "print(r.text)"
   ]
  },
  {
   "cell_type": "code",
   "execution_count": null,
   "id": "9e7ad3f8-d4f4-4021-bf08-9bcbb1ef93c0",
   "metadata": {},
   "outputs": [],
   "source": []
  }
 ],
 "metadata": {
  "kernelspec": {
   "display_name": "python38",
   "language": "python",
   "name": "python38"
  },
  "language_info": {
   "codemirror_mode": {
    "name": "ipython",
    "version": 3
   },
   "file_extension": ".py",
   "mimetype": "text/x-python",
   "name": "python",
   "nbconvert_exporter": "python",
   "pygments_lexer": "ipython3",
   "version": "3.8.8"
  }
 },
 "nbformat": 4,
 "nbformat_minor": 5
}
