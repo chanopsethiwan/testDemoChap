{
 "cells": [
  {
   "cell_type": "code",
   "execution_count": null,
   "metadata": {},
   "outputs": [],
   "source": [
    "#hide\n",
    "from your_lib.core import *"
   ]
  },
  {
   "cell_type": "markdown",
   "metadata": {},
   "source": [
    "# Template for sam nbdev\n",
    "\n",
    "> Summary description here.\n",
    "This is a template for building a python 3.8 sam project with [nbdev](https://nbdev.fast.ai) setup"
   ]
  },
  {
   "cell_type": "markdown",
   "metadata": {},
   "source": []
  },
  {
   "cell_type": "markdown",
   "metadata": {},
   "source": [
    "## Install"
   ]
  },
  {
   "cell_type": "markdown",
   "metadata": {},
   "source": [
    "`pip install aws-sam-cli nbdev pynamodb-dax`\n",
    "\n",
    "to configure aws credentials run `brew install awscli` then `aws configure`\n",
    "you can put the IAM user keys in"
   ]
  },
  {
   "cell_type": "markdown",
   "metadata": {},
   "source": [
    "## How to use"
   ]
  },
  {
   "cell_type": "markdown",
   "metadata": {},
   "source": [
    "1. fill in all the notebooks, create if needed\n",
    "2. put `#export` on top of any cells you want to export and `#default_exp filename` on top of the notebook (see example`get.ipynb`)\n",
    "3. run `make build`\n",
    "4. edit sam [template](https://docs.aws.amazon.com/serverless-application-model/latest/developerguide/sam-resource-function.html) as necessary\n",
    "5. put requirements into `layer/requirements.txt` and run `cd layer&& bash lambdaLayer.sh`\n",
    "6. go back to the root directory and run `sam build` then `sam deploy --guided`\n",
    "7. import the lambda functions into `/app.py`\n",
    "8. (optional) to deploy using github action, edit the `deploy.yml` file as appropriate"
   ]
  },
  {
   "cell_type": "code",
   "execution_count": null,
   "metadata": {},
   "outputs": [],
   "source": []
  },
  {
   "cell_type": "code",
   "execution_count": null,
   "metadata": {},
   "outputs": [],
   "source": []
  }
 ],
 "metadata": {
  "kernelspec": {
   "display_name": "python38",
   "language": "python",
   "name": "python38"
  }
 },
 "nbformat": 4,
 "nbformat_minor": 4
}
