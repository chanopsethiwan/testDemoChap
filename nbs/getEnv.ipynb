{
 "cells": [
  {
   "cell_type": "code",
   "execution_count": null,
   "id": "33991726-d5b8-4bb3-a72e-3937a8b1b644",
   "metadata": {},
   "outputs": [],
   "source": [
    "# default_exp getEnv"
   ]
  },
  {
   "cell_type": "markdown",
   "id": "3a3c1bd0-1363-45b5-b5f2-23b479b764b3",
   "metadata": {},
   "source": [
    "# GetEnv\n",
    "\n",
    "> Get the environment variable"
   ]
  },
  {
   "cell_type": "code",
   "execution_count": null,
   "id": "fd3d2e81-a767-49ee-85f4-70692b366d48",
   "metadata": {},
   "outputs": [
    {
     "ename": "ModuleNotFoundError",
     "evalue": "No module named 'src.setEnv'",
     "output_type": "error",
     "traceback": [
      "\u001b[0;31m---------------------------------------------------------------------------\u001b[0m",
      "\u001b[0;31mModuleNotFoundError\u001b[0m                       Traceback (most recent call last)",
      "Input \u001b[0;32mIn [2]\u001b[0m, in \u001b[0;36m<cell line: 2>\u001b[0;34m()\u001b[0m\n\u001b[1;32m      1\u001b[0m \u001b[38;5;66;03m#hide \u001b[39;00m\n\u001b[0;32m----> 2\u001b[0m \u001b[38;5;28;01mimport\u001b[39;00m \u001b[38;5;21;01msrc\u001b[39;00m\u001b[38;5;21;01m.\u001b[39;00m\u001b[38;5;21;01msetEnv\u001b[39;00m\n",
      "\u001b[0;31mModuleNotFoundError\u001b[0m: No module named 'src.setEnv'"
     ]
    }
   ],
   "source": [
    "#hide \n",
    "import src.setEnv"
   ]
  },
  {
   "cell_type": "code",
   "execution_count": null,
   "id": "b71dbfb3-7ab3-4dee-8509-ca980e02cf81",
   "metadata": {},
   "outputs": [],
   "source": [
    "#export\n",
    "import os"
   ]
  },
  {
   "cell_type": "code",
   "execution_count": null,
   "id": "76c3e062-90ce-402d-a377-516a3c5ac7dd",
   "metadata": {},
   "outputs": [],
   "source": [
    "#export\n",
    "USERTABLENAME = os.environ.get('USERTABLENAME')"
   ]
  }
 ],
 "metadata": {
  "kernelspec": {
   "display_name": "python38",
   "language": "python",
   "name": "python38"
  }
 },
 "nbformat": 4,
 "nbformat_minor": 5
}
