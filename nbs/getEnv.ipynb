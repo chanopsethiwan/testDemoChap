{
 "cells": [
  {
   "cell_type": "code",
   "execution_count": null,
   "id": "33991726-d5b8-4bb3-a72e-3937a8b1b644",
   "metadata": {},
   "outputs": [],
   "source": [
    "# default_exp getEnv"
   ]
  },
  {
   "cell_type": "markdown",
   "id": "3a3c1bd0-1363-45b5-b5f2-23b479b764b3",
   "metadata": {},
   "source": [
    "# GetEnv\n",
    "\n",
    "> Get the environment variable"
   ]
  },
  {
   "cell_type": "code",
   "execution_count": 1,
   "id": "fd3d2e81-a767-49ee-85f4-70692b366d48",
   "metadata": {},
   "outputs": [],
   "source": [
    "#hide \n",
    "import src.setEnv"
   ]
  },
  {
   "cell_type": "code",
   "execution_count": 2,
   "id": "b71dbfb3-7ab3-4dee-8509-ca980e02cf81",
   "metadata": {},
   "outputs": [],
   "source": [
    "#export\n",
    "import os"
   ]
  },
  {
   "cell_type": "code",
   "execution_count": 3,
   "id": "76c3e062-90ce-402d-a377-516a3c5ac7dd",
   "metadata": {},
   "outputs": [],
   "source": [
    "#export\n",
    "USERTABLENAME = os.environ.get('USERTABLENAME')"
   ]
  },
  {
   "cell_type": "code",
   "execution_count": null,
   "id": "bacc0f5d-47b1-4dfd-a86d-d10553cea8c1",
   "metadata": {},
   "outputs": [],
   "source": []
  }
 ],
 "metadata": {
  "kernelspec": {
   "display_name": "python38",
   "language": "python",
   "name": "python38"
  },
  "language_info": {
   "codemirror_mode": {
    "name": "ipython",
    "version": 3
   },
   "file_extension": ".py",
   "mimetype": "text/x-python",
   "name": "python",
   "nbconvert_exporter": "python",
   "pygments_lexer": "ipython3",
   "version": "3.8.8"
  }
 },
 "nbformat": 4,
 "nbformat_minor": 5
}
