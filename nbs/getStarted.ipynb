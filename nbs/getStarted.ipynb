{
 "cells": [
  {
   "cell_type": "code",
   "execution_count": null,
   "id": "86293df6-64ea-4df5-bf07-afb955e92a3d",
   "metadata": {},
   "outputs": [],
   "source": [
    "# default_exp getStarted"
   ]
  },
  {
   "cell_type": "markdown",
   "id": "f4e2ebee-c795-4bf4-9f9e-43dbcc77de12",
   "metadata": {},
   "source": [
    "## Get Started\n",
    "\n",
    "> Put down name and level of study"
   ]
  },
  {
   "cell_type": "code",
   "execution_count": null,
   "id": "bdffcde1-b201-4246-a845-01b4d7184f49",
   "metadata": {},
   "outputs": [],
   "source": [
    "#hide\n",
    "import src.setEnv \n",
    "import requests"
   ]
  },
  {
   "cell_type": "code",
   "execution_count": null,
   "id": "ad390db9-38c8-4389-b865-56bbf692408c",
   "metadata": {},
   "outputs": [],
   "source": [
    "#export \n",
    "from src.userTable import UserTable\n",
    "from awsSchema.apigateway import Response, Event\n",
    "from copy import deepcopy\n",
    "from src.saltHashPassword import hash_password, check_password\n",
    "from dataclasses import dataclass\n",
    "from dataclasses_json import dataclass_json\n",
    "from beartype import beartype"
   ]
  },
  {
   "cell_type": "markdown",
   "id": "4e4551df-cc84-44f1-96c7-27aeccd2adee",
   "metadata": {},
   "source": [
    "## Get Started Input Class"
   ]
  },
  {
   "cell_type": "code",
   "execution_count": null,
   "id": "d2b7e987-c5f8-4cbf-bda3-f1ca07e39221",
   "metadata": {},
   "outputs": [],
   "source": [
    "#export\n",
    "@dataclass_json\n",
    "@dataclass\n",
    "class GetStartedInput:\n",
    "    username: str\n",
    "    fullname: str\n",
    "    nickname: str\n",
    "    levelOfStudy: str\n",
    "    "
   ]
  },
  {
   "cell_type": "markdown",
   "id": "6dc9ec58-c12b-4c47-8b6d-3a5b87983db2",
   "metadata": {},
   "source": [
    "## Main Lambda Handler"
   ]
  },
  {
   "cell_type": "code",
   "execution_count": null,
   "id": "b9d15ae5-4ba4-46c0-a47a-c3089c996b81",
   "metadata": {},
   "outputs": [],
   "source": [
    "#export\n",
    "class H:\n",
    "    class ParseInputError: pass\n",
    "    class GetStartedError: pass\n",
    "    \n",
    "    @classmethod\n",
    "    @beartype\n",
    "    def parseInput(cls, event:dict)->GetStartedInput:\n",
    "        try:\n",
    "            user = Event.parseDataClass(GetStartedInput, deepcopy(event))\n",
    "            return user\n",
    "        except Exception as e:\n",
    "            raise cls.ParseInputError(e)\n",
    "      \n",
    "    @classmethod\n",
    "    @beartype\n",
    "    def getStartedInfo(cls, user: GetStartedInput):\n",
    "        try: \n",
    "            usernameQuery = UserTable.username_index.query(user.username)\n",
    "            for i in usernameQuery:\n",
    "                userId = i.userId\n",
    "                oldItem = UserTable.get(userId)\n",
    "                oldItem.fullname = user.fullname\n",
    "                oldItem.nickname = user.nickname\n",
    "                oldItem.levelOfStudy = user.levelOfStudy\n",
    "                oldItem.save()\n",
    "        except Exception as e:\n",
    "            raise cls.GetStartedError(e)\n",
    "        return True"
   ]
  },
  {
   "cell_type": "code",
   "execution_count": null,
   "id": "a649531d-7e8c-4723-ae29-722363eb793c",
   "metadata": {},
   "outputs": [],
   "source": [
    "#export\n",
    "def getStarted(event, *args):\n",
    "    try:\n",
    "        user = H.parseInput(event)\n",
    "        H.getStartedInfo(user)\n",
    "        return Response.returnSuccess()\n",
    "    except H.ParseInputError as e:\n",
    "        return Response.returnError(f'failed to parse input {e}')\n",
    "    except H.GetStartedError as e:\n",
    "        return Response.returnError(f'failed to save get started information {e}')"
   ]
  }
 ],
 "metadata": {
  "kernelspec": {
   "display_name": "python38",
   "language": "python",
   "name": "python38"
  }
 },
 "nbformat": 4,
 "nbformat_minor": 5
}
